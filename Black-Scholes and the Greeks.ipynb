{
 "cells": [
  {
   "cell_type": "markdown",
   "metadata": {
    "slideshow": {
     "slide_type": "skip"
    }
   },
   "source": [
    "# Imports"
   ]
  },
  {
   "cell_type": "code",
   "execution_count": 1,
   "metadata": {
    "slideshow": {
     "slide_type": "skip"
    }
   },
   "outputs": [
    {
     "name": "stdout",
     "output_type": "stream",
     "text": [
      "Requirement already satisfied: scipy in c:\\users\\lung\\anaconda3\\lib\\site-packages (1.5.0)\n",
      "Requirement already satisfied: numpy>=1.14.5 in c:\\users\\lung\\anaconda3\\lib\\site-packages (from scipy) (1.18.5)\n",
      "Requirement already satisfied: matplotlib in c:\\users\\lung\\anaconda3\\lib\\site-packages (3.2.2)\n",
      "Requirement already satisfied: numpy>=1.11 in c:\\users\\lung\\anaconda3\\lib\\site-packages (from matplotlib) (1.18.5)\n",
      "Requirement already satisfied: pyparsing!=2.0.4,!=2.1.2,!=2.1.6,>=2.0.1 in c:\\users\\lung\\anaconda3\\lib\\site-packages (from matplotlib) (2.4.7)\n",
      "Requirement already satisfied: python-dateutil>=2.1 in c:\\users\\lung\\anaconda3\\lib\\site-packages (from matplotlib) (2.8.1)\n",
      "Requirement already satisfied: cycler>=0.10 in c:\\users\\lung\\anaconda3\\lib\\site-packages (from matplotlib) (0.10.0)\n",
      "Requirement already satisfied: kiwisolver>=1.0.1 in c:\\users\\lung\\anaconda3\\lib\\site-packages (from matplotlib) (1.2.0)\n",
      "Requirement already satisfied: six>=1.5 in c:\\users\\lung\\anaconda3\\lib\\site-packages (from python-dateutil>=2.1->matplotlib) (1.15.0)\n"
     ]
    }
   ],
   "source": [
    "!pip install scipy\n",
    "!pip install matplotlib"
   ]
  },
  {
   "cell_type": "code",
   "execution_count": 2,
   "metadata": {
    "slideshow": {
     "slide_type": "skip"
    }
   },
   "outputs": [],
   "source": [
    "from scipy.stats import norm as normal\n",
    "import math\n",
    "import numpy as np"
   ]
  },
  {
   "cell_type": "code",
   "execution_count": 3,
   "metadata": {
    "slideshow": {
     "slide_type": "skip"
    }
   },
   "outputs": [],
   "source": [
    "from __future__ import print_function\n",
    "from ipywidgets import interact, interactive, fixed, interact_manual\n",
    "import ipywidgets as widgets"
   ]
  },
  {
   "cell_type": "code",
   "execution_count": 4,
   "metadata": {
    "slideshow": {
     "slide_type": "skip"
    }
   },
   "outputs": [],
   "source": [
    "%matplotlib notebook"
   ]
  },
  {
   "cell_type": "code",
   "execution_count": 5,
   "metadata": {
    "slideshow": {
     "slide_type": "skip"
    }
   },
   "outputs": [],
   "source": [
    "import matplotlib.pyplot as plt\n",
    "from mpl_toolkits.mplot3d import Axes3D\n",
    "from pylab import MaxNLocator"
   ]
  },
  {
   "cell_type": "markdown",
   "metadata": {
    "slideshow": {
     "slide_type": "skip"
    }
   },
   "source": [
    "# Implementations Formulas"
   ]
  },
  {
   "cell_type": "markdown",
   "metadata": {
    "slideshow": {
     "slide_type": "skip"
    }
   },
   "source": [
    "## Price Formulas"
   ]
  },
  {
   "cell_type": "code",
   "execution_count": 6,
   "metadata": {
    "slideshow": {
     "slide_type": "skip"
    }
   },
   "outputs": [],
   "source": [
    "def calcDs(S, K, r, sigma, t):\n",
    "    d1 = (math.log(S/K) + (r + sigma**2/2)*t)/(sigma * math.sqrt(t))\n",
    "    d2 = d1 - sigma * math.sqrt(t)\n",
    "    return (d1,d2)"
   ]
  },
  {
   "cell_type": "code",
   "execution_count": 7,
   "metadata": {
    "slideshow": {
     "slide_type": "skip"
    }
   },
   "outputs": [],
   "source": [
    "def calcCall(S,K,t,r,sigma):\n",
    "    (d1,d2) = calcDs(S, K, r, sigma, t)\n",
    "    return round(S*normal.cdf(d1) - K *math.exp(-r*t)*normal.cdf(d2),2)\n",
    "\n",
    "def calcPut(S,K,t,r,sigma):\n",
    "    (d1,d2) = calcDs(S, K, r, sigma, t)\n",
    "    return round(K*math.exp(-r*t)*normal.cdf(-d2) - S * normal.cdf(-d1),2)"
   ]
  },
  {
   "cell_type": "code",
   "execution_count": 8,
   "metadata": {
    "slideshow": {
     "slide_type": "skip"
    }
   },
   "outputs": [],
   "source": [
    "def calcOption(optionType, S, K, t, r):\n",
    "    if optionType == \"Put\":\n",
    "        return calcPut(S, K, t, r, sigma)\n",
    "    if optionType == \"Call\":\n",
    "        return calcCall(S, K, t, r, sigma)        "
   ]
  },
  {
   "cell_type": "markdown",
   "metadata": {
    "slideshow": {
     "slide_type": "skip"
    }
   },
   "source": [
    "## Greeks"
   ]
  },
  {
   "cell_type": "code",
   "execution_count": 9,
   "metadata": {
    "slideshow": {
     "slide_type": "skip"
    }
   },
   "outputs": [],
   "source": [
    "def calcDeltaCall(S,K, t,r, sigma):\n",
    "    d1 = calcDs(S, K, r, sigma, t)[0]\n",
    "    return normal.cdf(d1)"
   ]
  },
  {
   "cell_type": "code",
   "execution_count": 10,
   "metadata": {
    "slideshow": {
     "slide_type": "skip"
    }
   },
   "outputs": [],
   "source": [
    "def calcThetaCall(S,K, t,r, sigma):\n",
    "    (d1,d2) = calcDs(S, K, r, sigma, t)\n",
    "    term1 = S*phi(d1,0,1)*sigma/(2*math.sqrt(t))\n",
    "    term2 = r*K*math.exp(-1*r*t)*normal.cdf(d2)\n",
    "    return -1*term1 - term2"
   ]
  },
  {
   "cell_type": "code",
   "execution_count": 11,
   "metadata": {
    "slideshow": {
     "slide_type": "skip"
    }
   },
   "outputs": [],
   "source": [
    "def calcGammaCall(S,K, t,r, sigma):\n",
    "    d1 = calcDs(S, K, r, sigma, t)[0]\n",
    "    return phi(d1, 0,1)/(S*sigma*math.sqrt(t))"
   ]
  },
  {
   "cell_type": "code",
   "execution_count": 12,
   "metadata": {
    "slideshow": {
     "slide_type": "skip"
    }
   },
   "outputs": [],
   "source": [
    "def calcVegaCall(S,K, t,r, sigma):\n",
    "    d1 = calcDs(S, K, r, sigma, t)[0]\n",
    "    term1 = S*phi(d1,0,1)\n",
    "    term2 = math.sqrt(t)\n",
    "    return term1 *term2"
   ]
  },
  {
   "cell_type": "code",
   "execution_count": 13,
   "metadata": {
    "slideshow": {
     "slide_type": "skip"
    }
   },
   "outputs": [],
   "source": [
    "def calcRhoCall(S,K, t,r, sigma):\n",
    "    (d1,d2) = calcDs(S, K, r, sigma, t)\n",
    "    term1 = t*K*math.exp(-1*r*t)\n",
    "    term2 = normal.cdf(d2)\n",
    "    return term1*term2"
   ]
  },
  {
   "cell_type": "markdown",
   "metadata": {
    "slideshow": {
     "slide_type": "skip"
    }
   },
   "source": [
    "# Utils"
   ]
  },
  {
   "cell_type": "code",
   "execution_count": 14,
   "metadata": {
    "slideshow": {
     "slide_type": "skip"
    }
   },
   "outputs": [],
   "source": [
    "def phi(x,mu, sigma):\n",
    "    return 1/math.sqrt(2*math.pi * sigma**2 )*math.exp(-(x-mu)**2/(2*(sigma**2)))\n",
    "    "
   ]
  },
  {
   "cell_type": "code",
   "execution_count": 15,
   "metadata": {
    "slideshow": {
     "slide_type": "skip"
    }
   },
   "outputs": [],
   "source": [
    "def plotPricePutCallByStrike(S,t,r,sigma):\n",
    "    fig = plt.figure()\n",
    "    Strikes = np.arange(50, 150)\n",
    "    vals_call = [calcCall(S,K, t , r, sigma) for K in Strikes]\n",
    "    vals_put = [calcPut(S,K, t , r, sigma) for K in Strikes]\n",
    "    plt.plot(Strikes,vals_call, 'r', label = \"Call\")\n",
    "    plt.plot(Strikes, vals_put, 'b', label  = \"Put\")\n",
    "    plt.legend()\n",
    "    plt.ylabel(\"Option Price ($)\")\n",
    "    plt.xlabel(\"Strike Price ($)\")\n",
    "    plt.show()"
   ]
  },
  {
   "cell_type": "code",
   "execution_count": 16,
   "metadata": {
    "slideshow": {
     "slide_type": "skip"
    }
   },
   "outputs": [],
   "source": [
    "interactive_plot1 = interactive(plotPricePutCallByStrike,\n",
    "                               S = widgets.BoundedFloatText(\n",
    "                                value=100,\n",
    "                                min=50,\n",
    "                                max=150,\n",
    "                                step=1,\n",
    "                                description='Basispreis:',\n",
    "                                disabled=False\n",
    "                                ),\n",
    "                               t = widgets.BoundedFloatText(\n",
    "                                value=1,\n",
    "                                min=0.1,\n",
    "                                max=2,\n",
    "                                step=0.1,\n",
    "                                description='Laufzeit:',\n",
    "                                disabled=False\n",
    "                                ),\n",
    "                               r = widgets.BoundedFloatText(\n",
    "                                value=0.01,\n",
    "                                min=0,\n",
    "                                max=1,\n",
    "                                step=0.01,\n",
    "                                description='Zinssatz:',\n",
    "                                disabled=False\n",
    "                                ),\n",
    "                               sigma = widgets.BoundedFloatText(\n",
    "                                value=0.05,\n",
    "                                min=0.01,\n",
    "                                max=1,\n",
    "                                step=0.01,\n",
    "                                description='Volatilität:',\n",
    "                                disabled=False\n",
    "                                ))"
   ]
  },
  {
   "cell_type": "code",
   "execution_count": 17,
   "metadata": {
    "slideshow": {
     "slide_type": "skip"
    }
   },
   "outputs": [],
   "source": [
    "def plotCallPriceSKfixed(t1,r1,sigma1, t2, r2, sigma2):\n",
    "    fig = plt.figure()\n",
    "    ax = fig.add_subplot(111, projection='3d')\n",
    "    x = y = np.arange(90, 110, 1)\n",
    "    X, Y = np.meshgrid(x, y)\n",
    "    \n",
    "    vectorizedPartialSK1 = np.vectorize(lambda S,K: calcCall(S,K,t1,r1,sigma1))\n",
    "    vectorizedPartialSK2 = np.vectorize(lambda S,K: calcCall(S,K,t2,r2,sigma2))\n",
    "    \n",
    "    zs1 = np.array(vectorizedPartialSK1(np.ravel(X), np.ravel(Y)))\n",
    "    Z1 = zs1.reshape(X.shape)\n",
    "    \n",
    "    zs2 = np.array(vectorizedPartialSK2(np.ravel(X), np.ravel(Y)))\n",
    "    Z2 = zs2.reshape(X.shape)\n",
    "    \n",
    "    \n",
    "    \n",
    "    \n",
    "    ax.scatter(X, Y, Z1)\n",
    "    ax.scatter(X, Y, Z2)\n",
    "\n",
    "    xa = ax.get_xaxis()\n",
    "    xa.set_major_locator(MaxNLocator(integer=True))\n",
    "    ya = ax.get_yaxis()\n",
    "    ya.set_major_locator(MaxNLocator(integer=True))\n",
    "\n",
    "\n",
    "    ax.set_xlabel('Asset Price')\n",
    "    ax.set_ylabel('Strike Price')\n",
    "    ax.set_zlabel('BS-Call-Price')"
   ]
  },
  {
   "cell_type": "code",
   "execution_count": 18,
   "metadata": {
    "slideshow": {
     "slide_type": "skip"
    }
   },
   "outputs": [],
   "source": [
    "interactive_plot2 = interactive(plotCallPriceSKfixed,\n",
    "                               t1 = widgets.BoundedFloatText(\n",
    "    value=1,\n",
    "    min=0.1,\n",
    "    max=2,\n",
    "    step=0.1,\n",
    "    description='Laufzeit1:',\n",
    "    disabled=False\n",
    "),\n",
    "                               r1 = widgets.BoundedFloatText(\n",
    "    value=0.01,\n",
    "    min=0,\n",
    "    max=1,\n",
    "    step=0.01,\n",
    "    description='Zinssatz1:',\n",
    "    disabled=False\n",
    "),\n",
    "                               sigma1 = widgets.BoundedFloatText(\n",
    "    value=0.05,\n",
    "    min=0.01,\n",
    "    max=1,\n",
    "    step=0.01,\n",
    "    description='Volatilität1:',\n",
    "    disabled=False\n",
    "),\n",
    "                               t2 = widgets.BoundedFloatText(\n",
    "    value=1.1,\n",
    "    min=0.1,\n",
    "    max=2,\n",
    "    step=0.1,\n",
    "    description='Laufzeit2:',\n",
    "    disabled=False\n",
    "),\n",
    "                               r2 = widgets.BoundedFloatText(\n",
    "    value=0.01,\n",
    "    min=0,\n",
    "    max=1,\n",
    "    step=0.01,\n",
    "    description='Zinssatz2:',\n",
    "    disabled=False\n",
    "),\n",
    "                               sigma2 = widgets.BoundedFloatText(\n",
    "    value=0.2,\n",
    "    min=0.01,\n",
    "    max=1,\n",
    "    step=0.01,\n",
    "    description='Volatilität2:',\n",
    "    disabled=False\n",
    "))"
   ]
  },
  {
   "cell_type": "code",
   "execution_count": 19,
   "metadata": {
    "slideshow": {
     "slide_type": "skip"
    }
   },
   "outputs": [],
   "source": [
    "def plotCallPriceSigmaTfixed(S1,K1,r1, S2, K2, r2):\n",
    "    fig = plt.figure()\n",
    "    ax = fig.add_subplot(111, projection='3d')\n",
    "    x = y = np.arange(0.01, 1, 0.05)\n",
    "    X, Y = np.meshgrid(x, y)\n",
    "    \n",
    "    vectorizedPartialSigmaT1 = np.vectorize(lambda sigma, t: calcCall(S1,K1,t,r1,sigma))\n",
    "    zs1 = np.array(vectorizedPartialSigmaT1(np.ravel(X), np.ravel(Y)))\n",
    "    Z1 = zs1.reshape(X.shape)\n",
    "    \n",
    "    vectorizedPartialSigmaT2 = np.vectorize(lambda sigma, t: calcCall(S2,K2,t,r2,sigma))\n",
    "    zs2 = np.array(vectorizedPartialSigmaT2(np.ravel(X), np.ravel(Y)))\n",
    "    Z2 = zs2.reshape(X.shape)\n",
    "\n",
    "    ax.scatter(X, Y, Z1)\n",
    "    ax.scatter(X,Y, Z2)\n",
    "\n",
    "    xa = ax.get_xaxis()\n",
    "    xa.set_major_locator(MaxNLocator(integer=True))\n",
    "    ya = ax.get_yaxis()\n",
    "    ya.set_major_locator(MaxNLocator(integer=True))\n",
    "\n",
    "\n",
    "    ax.set_xlabel('Vola')\n",
    "    ax.set_ylabel('timeToMaturity')\n",
    "    ax.set_zlabel('BS-Call-Price')"
   ]
  },
  {
   "cell_type": "code",
   "execution_count": 20,
   "metadata": {
    "slideshow": {
     "slide_type": "skip"
    }
   },
   "outputs": [],
   "source": [
    "interactive_plot3 = interactive(plotCallPriceSigmaTfixed,\n",
    "                               S1 = widgets.BoundedFloatText(\n",
    "    value=100,\n",
    "    min=50,\n",
    "    max=150,\n",
    "    step=1,\n",
    "    description='Basispreis1:',\n",
    "    disabled=False\n",
    "),\n",
    "                               K1 = widgets.BoundedFloatText(\n",
    "    value=110,\n",
    "    min=50,\n",
    "    max=150,\n",
    "    step=1,\n",
    "    description='Ausübungspreis1:',\n",
    "    disabled=False\n",
    "),\n",
    "                               r1 = widgets.BoundedFloatText(\n",
    "    value=0.01,\n",
    "    min=0,\n",
    "    max=1,\n",
    "    step=0.01,\n",
    "    description='Zinssatz1:',\n",
    "    disabled=False\n",
    "),\n",
    "                               S2 = widgets.BoundedFloatText(\n",
    "    value=110,\n",
    "    min=50,\n",
    "    max=150,\n",
    "    step=1,\n",
    "    description='Basispreis2:',\n",
    "    disabled=False\n",
    "),\n",
    "                               K2 =  widgets.BoundedFloatText(\n",
    "    value=115,\n",
    "    min=50,\n",
    "    max=150,\n",
    "    step=1,\n",
    "    description='Ausübungspreis2:',\n",
    "    disabled=False\n",
    "),\n",
    "                               r2 = widgets.BoundedFloatText(\n",
    "    value=0.01,\n",
    "    min=0,\n",
    "    max=1,\n",
    "    step=0.01,\n",
    "    description='Zinssatz2:',\n",
    "    disabled=False\n",
    "))"
   ]
  },
  {
   "cell_type": "code",
   "execution_count": 21,
   "metadata": {
    "slideshow": {
     "slide_type": "skip"
    }
   },
   "outputs": [],
   "source": [
    "def plotDeltaStockPriceExpiry(K,r,sigma):\n",
    "    fig = plt.figure()\n",
    "    ax = fig.add_subplot(111, projection='3d')\n",
    "    x = np.arange(90, 120, 0.5)\n",
    "    y = np.arange(0.01, 2, 0.05)\n",
    "    X, Y = np.meshgrid(x, y)\n",
    "    \n",
    "    vectorizedPartialDelta1 = np.vectorize(lambda S, t: calcDeltaCall(S,K, t,r, sigma))\n",
    "    zs1 = np.array(vectorizedPartialDelta1(np.ravel(X), np.ravel(Y)))\n",
    "    Z1 = zs1.reshape(X.shape)\n",
    "    \n",
    "    ax.scatter(X, Y, Z1)\n",
    "\n",
    "    xa = ax.get_xaxis()\n",
    "    xa.set_major_locator(MaxNLocator(integer=True))\n",
    "    ya = ax.get_yaxis()\n",
    "    ya.set_major_locator(MaxNLocator(integer=True))\n",
    "\n",
    "\n",
    "    ax.set_xlabel('Asset Price')\n",
    "    ax.set_ylabel('timeToMaturity')\n",
    "    ax.set_zlabel('Call Delta')\n",
    "    "
   ]
  },
  {
   "cell_type": "code",
   "execution_count": 22,
   "metadata": {
    "slideshow": {
     "slide_type": "skip"
    }
   },
   "outputs": [],
   "source": [
    "interactive_plot4 = interactive(plotDeltaStockPriceExpiry,\n",
    "                               K =  widgets.BoundedFloatText(\n",
    "    value=110,\n",
    "    min=50,\n",
    "    max=150,\n",
    "    step=1,\n",
    "    description='Ausübungspreis:',\n",
    "    disabled=False\n",
    "),\n",
    "                               r = widgets.BoundedFloatText(\n",
    "    value=0.01,\n",
    "    min=0,\n",
    "    max=1,\n",
    "    step=0.01,\n",
    "    description='Zinssatz:',\n",
    "    disabled=False\n",
    "),\n",
    "                               sigma = widgets.BoundedFloatText(\n",
    "    value=0.05,\n",
    "    min=0.01,\n",
    "    max=1,\n",
    "    step=0.01,\n",
    "    description='Volatilität:',\n",
    "    disabled=False\n",
    "))"
   ]
  },
  {
   "cell_type": "code",
   "execution_count": 23,
   "metadata": {
    "slideshow": {
     "slide_type": "skip"
    }
   },
   "outputs": [],
   "source": [
    "def plotGammaStockPriceExpiry(K,r,sigma):\n",
    "    fig = plt.figure()\n",
    "    ax = fig.add_subplot(111, projection='3d')\n",
    "    x = np.arange(105, 115, 0.5)\n",
    "    y = np.arange(0.01, 1, 0.02)\n",
    "    X, Y = np.meshgrid(x, y)\n",
    "    \n",
    "    vectorizedPartialGamma1 = np.vectorize(lambda S, t: calcGammaCall(S,K, t,r, sigma))\n",
    "    zs1 = np.array(vectorizedPartialGamma1(np.ravel(X), np.ravel(Y)))\n",
    "    Z1 = zs1.reshape(X.shape)\n",
    "    \n",
    "    ax.scatter(X, Y, Z1)\n",
    "\n",
    "    xa = ax.get_xaxis()\n",
    "    xa.set_major_locator(MaxNLocator(integer=True))\n",
    "    ya = ax.get_yaxis()\n",
    "    ya.set_major_locator(MaxNLocator(integer=True))\n",
    "\n",
    "\n",
    "    ax.set_xlabel('Asset Price')\n",
    "    ax.set_ylabel('timeToMaturity')\n",
    "    ax.set_zlabel('Call Gamma')"
   ]
  },
  {
   "cell_type": "code",
   "execution_count": 24,
   "metadata": {
    "slideshow": {
     "slide_type": "skip"
    }
   },
   "outputs": [],
   "source": [
    "interactive_plot5 = interactive(plotGammaStockPriceExpiry,\n",
    "                               K =  widgets.BoundedFloatText(\n",
    "    value=110,\n",
    "    min=50,\n",
    "    max=150,\n",
    "    step=1,\n",
    "    description='Ausübungspreis:',\n",
    "    disabled=False\n",
    "),\n",
    "                               r = widgets.BoundedFloatText(\n",
    "    value=0.01,\n",
    "    min=0,\n",
    "    max=1,\n",
    "    step=0.01,\n",
    "    description='Zinssatz:',\n",
    "    disabled=False\n",
    "),\n",
    "                               sigma = widgets.BoundedFloatText(\n",
    "    value=0.05,\n",
    "    min=0.01,\n",
    "    max=1,\n",
    "    step=0.01,\n",
    "    description='Volatilität:',\n",
    "    disabled=False\n",
    "))\n",
    "                               \n"
   ]
  },
  {
   "cell_type": "code",
   "execution_count": 25,
   "metadata": {
    "slideshow": {
     "slide_type": "skip"
    }
   },
   "outputs": [],
   "source": [
    "def plotVegaStockPriceExpiry(K,r,sigma):\n",
    "    fig = plt.figure()\n",
    "    ax = fig.add_subplot(111, projection='3d')\n",
    "    x = np.arange(80, 120, 1)\n",
    "    y = np.arange(0.01, 2, 0.05)\n",
    "    X, Y = np.meshgrid(x, y)\n",
    "    \n",
    "    vectorizedPartialVega1 = np.vectorize(lambda S, t: calcVegaCall(S,K, t,r, sigma))\n",
    "    zs1 = np.array(vectorizedPartialVega1(np.ravel(X), np.ravel(Y)))\n",
    "    Z1 = zs1.reshape(X.shape)\n",
    "    \n",
    "    ax.scatter(X, Y, Z1)\n",
    "\n",
    "    xa = ax.get_xaxis()\n",
    "    xa.set_major_locator(MaxNLocator(integer=True))\n",
    "    ya = ax.get_yaxis()\n",
    "    ya.set_major_locator(MaxNLocator(integer=True))\n",
    "\n",
    "\n",
    "    ax.set_xlabel('Asset Price')\n",
    "    ax.set_ylabel('timeToMaturity')\n",
    "    ax.set_zlabel('Call Vega')"
   ]
  },
  {
   "cell_type": "code",
   "execution_count": 26,
   "metadata": {
    "slideshow": {
     "slide_type": "skip"
    }
   },
   "outputs": [],
   "source": [
    "interactive_plot6 = interactive(plotVegaStockPriceExpiry,\n",
    "                               K =  widgets.BoundedFloatText(\n",
    "    value=110,\n",
    "    min=50,\n",
    "    max=150,\n",
    "    step=1,\n",
    "    description='Ausübungspreis:',\n",
    "    disabled=False\n",
    "),\n",
    "                               r = widgets.BoundedFloatText(\n",
    "    value=0.01,\n",
    "    min=0,\n",
    "    max=1,\n",
    "    step=0.01,\n",
    "    description='Zinssatz:',\n",
    "    disabled=False\n",
    "),\n",
    "                               sigma = widgets.BoundedFloatText(\n",
    "    value=0.15,\n",
    "    min=0.01,\n",
    "    max=1,\n",
    "    step=0.01,\n",
    "    description='Volatilität:',\n",
    "    disabled=False\n",
    "))\n",
    "                               \n"
   ]
  },
  {
   "cell_type": "code",
   "execution_count": 27,
   "metadata": {
    "slideshow": {
     "slide_type": "skip"
    }
   },
   "outputs": [],
   "source": [
    "def plotThetaStockPriceExpiry(K,r,sigma):\n",
    "    fig = plt.figure()\n",
    "    ax = fig.add_subplot(111, projection='3d')\n",
    "    x = np.arange(105, 115, 0.1)\n",
    "    y = np.arange(0.01, 0.3, 0.01)\n",
    "    X, Y = np.meshgrid(x, y)\n",
    "    \n",
    "    vectorizedPartialTheta1 = np.vectorize(lambda S, t: calcThetaCall(S,K, t,r, sigma))\n",
    "    zs1 = np.array(vectorizedPartialTheta1(np.ravel(X), np.ravel(Y)))\n",
    "    Z1 = zs1.reshape(X.shape)\n",
    "    \n",
    "    ax.scatter(X, Y, Z1)\n",
    "\n",
    "    xa = ax.get_xaxis()\n",
    "    xa.set_major_locator(MaxNLocator(integer=True))\n",
    "    ya = ax.get_yaxis()\n",
    "    ya.set_major_locator(MaxNLocator(integer=True))\n",
    "\n",
    "\n",
    "    ax.set_xlabel('Asset Price')\n",
    "    ax.set_ylabel('timeToMaturity')\n",
    "    ax.set_zlabel('Call Theta')"
   ]
  },
  {
   "cell_type": "code",
   "execution_count": 28,
   "metadata": {
    "slideshow": {
     "slide_type": "skip"
    }
   },
   "outputs": [],
   "source": [
    "interactive_plot7 = interactive(plotThetaStockPriceExpiry,\n",
    "                               K =  widgets.BoundedFloatText(\n",
    "    value=110,\n",
    "    min=50,\n",
    "    max=150,\n",
    "    step=1,\n",
    "    description='Ausübungspreis:',\n",
    "    disabled=False\n",
    "),\n",
    "                               r = widgets.BoundedFloatText(\n",
    "    value=0.01,\n",
    "    min=0,\n",
    "    max=1,\n",
    "    step=0.01,\n",
    "    description='Zinssatz:',\n",
    "    disabled=False\n",
    "),\n",
    "                               sigma = widgets.BoundedFloatText(\n",
    "    value=0.05,\n",
    "    min=0.01,\n",
    "    max=1,\n",
    "    step=0.01,\n",
    "    description='Volatilität:',\n",
    "    disabled=False\n",
    "))                             "
   ]
  },
  {
   "cell_type": "code",
   "execution_count": 29,
   "metadata": {
    "slideshow": {
     "slide_type": "skip"
    }
   },
   "outputs": [],
   "source": [
    "def plotRhoStockPriceExpiry(K,r,sigma):\n",
    "    fig = plt.figure()\n",
    "    ax = fig.add_subplot(111, projection='3d')\n",
    "    x = np.arange(90, 150, 2)\n",
    "    y = np.arange(0.01, 2, 0.05)\n",
    "    X, Y = np.meshgrid(x, y)\n",
    "    \n",
    "    vectorizedPartialRho1 = np.vectorize(lambda S, t: calcRhoCall(S,K, t,r, sigma))\n",
    "    zs1 = np.array(vectorizedPartialRho1(np.ravel(X), np.ravel(Y)))\n",
    "    Z1 = zs1.reshape(X.shape)\n",
    "    \n",
    "    ax.scatter(X, Y, Z1)\n",
    "\n",
    "    xa = ax.get_xaxis()\n",
    "    xa.set_major_locator(MaxNLocator(integer=True))\n",
    "    ya = ax.get_yaxis()\n",
    "    ya.set_major_locator(MaxNLocator(integer=True))\n",
    "\n",
    "\n",
    "    ax.set_xlabel('Asset Price')\n",
    "    ax.set_ylabel('timeToMaturity')\n",
    "    ax.set_zlabel('Call Rho')"
   ]
  },
  {
   "cell_type": "code",
   "execution_count": 30,
   "metadata": {
    "slideshow": {
     "slide_type": "skip"
    }
   },
   "outputs": [],
   "source": [
    "interactive_plot8 = interactive(plotRhoStockPriceExpiry,\n",
    "                               K =  widgets.BoundedFloatText(\n",
    "    value=110,\n",
    "    min=50,\n",
    "    max=150,\n",
    "    step=1,\n",
    "    description='Ausübungspreis:',\n",
    "    disabled=False\n",
    "),\n",
    "                               r = widgets.BoundedFloatText(\n",
    "    value=0.01,\n",
    "    min=0,\n",
    "    max=1,\n",
    "    step=0.01,\n",
    "    description='Zinssatz:',\n",
    "    disabled=False\n",
    "),\n",
    "                               sigma = widgets.BoundedFloatText(\n",
    "    value=0.05,\n",
    "    min=0.01,\n",
    "    max=1,\n",
    "    step=0.01,\n",
    "    description='Volatilität:',\n",
    "    disabled=False\n",
    "))\n",
    "                               \n"
   ]
  },
  {
   "cell_type": "markdown",
   "metadata": {
    "slideshow": {
     "slide_type": "slide"
    }
   },
   "source": [
    "# Visualization"
   ]
  },
  {
   "cell_type": "markdown",
   "metadata": {
    "slideshow": {
     "slide_type": "slide"
    }
   },
   "source": [
    "# Optionspreise abhängig vom Ausübungspreis:"
   ]
  },
  {
   "cell_type": "code",
   "execution_count": 31,
   "metadata": {
    "slideshow": {
     "slide_type": "fragment"
    }
   },
   "outputs": [
    {
     "data": {
      "application/vnd.jupyter.widget-view+json": {
       "model_id": "b943e1a154e24fcda4fcaeb434cafb46",
       "version_major": 2,
       "version_minor": 0
      },
      "text/plain": [
       "interactive(children=(BoundedFloatText(value=100.0, description='Basispreis:', max=150.0, min=50.0, step=1.0),…"
      ]
     },
     "metadata": {},
     "output_type": "display_data"
    }
   ],
   "source": [
    "interactive_plot1"
   ]
  },
  {
   "cell_type": "markdown",
   "metadata": {
    "slideshow": {
     "slide_type": "slide"
    }
   },
   "source": [
    "# Preise zweier Calls abhängig vom Basis- und Ausübungspreis"
   ]
  },
  {
   "cell_type": "code",
   "execution_count": 32,
   "metadata": {
    "slideshow": {
     "slide_type": "fragment"
    }
   },
   "outputs": [
    {
     "data": {
      "application/vnd.jupyter.widget-view+json": {
       "model_id": "04d3468ab0ac4297968a1865ecb487a0",
       "version_major": 2,
       "version_minor": 0
      },
      "text/plain": [
       "interactive(children=(BoundedFloatText(value=1.0, description='Laufzeit1:', max=2.0, min=0.1, step=0.1), Bound…"
      ]
     },
     "metadata": {},
     "output_type": "display_data"
    }
   ],
   "source": [
    "interactive_plot2"
   ]
  },
  {
   "cell_type": "markdown",
   "metadata": {
    "slideshow": {
     "slide_type": "slide"
    }
   },
   "source": [
    "# Preis zweier Calls abhängig von Volatilität und Laufzeit"
   ]
  },
  {
   "cell_type": "code",
   "execution_count": 33,
   "metadata": {
    "slideshow": {
     "slide_type": "fragment"
    }
   },
   "outputs": [
    {
     "data": {
      "application/vnd.jupyter.widget-view+json": {
       "model_id": "9f197e92b07b4939bfc6fb2c76881067",
       "version_major": 2,
       "version_minor": 0
      },
      "text/plain": [
       "interactive(children=(BoundedFloatText(value=100.0, description='Basispreis1:', max=150.0, min=50.0, step=1.0)…"
      ]
     },
     "metadata": {},
     "output_type": "display_data"
    }
   ],
   "source": [
    "interactive_plot3"
   ]
  },
  {
   "cell_type": "markdown",
   "metadata": {
    "slideshow": {
     "slide_type": "slide"
    }
   },
   "source": [
    "# Delta eines Calls abhängig von Basispreis und Laufzeit"
   ]
  },
  {
   "cell_type": "code",
   "execution_count": 34,
   "metadata": {
    "slideshow": {
     "slide_type": "fragment"
    }
   },
   "outputs": [
    {
     "data": {
      "application/vnd.jupyter.widget-view+json": {
       "model_id": "fe48035f305d4c3c8cb17bd83e309d71",
       "version_major": 2,
       "version_minor": 0
      },
      "text/plain": [
       "interactive(children=(BoundedFloatText(value=110.0, description='Ausübungspreis:', max=150.0, min=50.0, step=1…"
      ]
     },
     "metadata": {},
     "output_type": "display_data"
    }
   ],
   "source": [
    "interactive_plot4"
   ]
  },
  {
   "cell_type": "markdown",
   "metadata": {
    "slideshow": {
     "slide_type": "slide"
    }
   },
   "source": [
    "# Gamma eines Calls abhängig von Basispreis und Laufzeit"
   ]
  },
  {
   "cell_type": "code",
   "execution_count": 35,
   "metadata": {
    "slideshow": {
     "slide_type": "fragment"
    }
   },
   "outputs": [
    {
     "data": {
      "application/vnd.jupyter.widget-view+json": {
       "model_id": "0ebec85ceeb64c95b08b889836a5eb82",
       "version_major": 2,
       "version_minor": 0
      },
      "text/plain": [
       "interactive(children=(BoundedFloatText(value=110.0, description='Ausübungspreis:', max=150.0, min=50.0, step=1…"
      ]
     },
     "metadata": {},
     "output_type": "display_data"
    }
   ],
   "source": [
    "interactive_plot5"
   ]
  },
  {
   "cell_type": "markdown",
   "metadata": {
    "slideshow": {
     "slide_type": "slide"
    }
   },
   "source": [
    "# Vega eines Calls abhängig von Basispreis und Laufzeit"
   ]
  },
  {
   "cell_type": "code",
   "execution_count": 36,
   "metadata": {
    "slideshow": {
     "slide_type": "fragment"
    }
   },
   "outputs": [
    {
     "data": {
      "application/vnd.jupyter.widget-view+json": {
       "model_id": "d2eb311ec2f24e2ba842cd1b19807552",
       "version_major": 2,
       "version_minor": 0
      },
      "text/plain": [
       "interactive(children=(BoundedFloatText(value=110.0, description='Ausübungspreis:', max=150.0, min=50.0, step=1…"
      ]
     },
     "metadata": {},
     "output_type": "display_data"
    }
   ],
   "source": [
    "interactive_plot6"
   ]
  },
  {
   "cell_type": "markdown",
   "metadata": {
    "slideshow": {
     "slide_type": "slide"
    }
   },
   "source": [
    "# Theta eines Calls abhängig von Basispreis und Laufzeit"
   ]
  },
  {
   "cell_type": "code",
   "execution_count": 37,
   "metadata": {
    "slideshow": {
     "slide_type": "fragment"
    }
   },
   "outputs": [
    {
     "data": {
      "application/vnd.jupyter.widget-view+json": {
       "model_id": "65744109953e40eda9bd247c68cc0909",
       "version_major": 2,
       "version_minor": 0
      },
      "text/plain": [
       "interactive(children=(BoundedFloatText(value=110.0, description='Ausübungspreis:', max=150.0, min=50.0, step=1…"
      ]
     },
     "metadata": {},
     "output_type": "display_data"
    }
   ],
   "source": [
    "interactive_plot7"
   ]
  },
  {
   "cell_type": "markdown",
   "metadata": {
    "slideshow": {
     "slide_type": "slide"
    }
   },
   "source": [
    "# Rho eines Calls abhängig von Basispreis und Laufzeit"
   ]
  },
  {
   "cell_type": "code",
   "execution_count": 38,
   "metadata": {
    "slideshow": {
     "slide_type": "fragment"
    }
   },
   "outputs": [
    {
     "data": {
      "application/vnd.jupyter.widget-view+json": {
       "model_id": "8f5346dba8b146f8aa2a11d69a582361",
       "version_major": 2,
       "version_minor": 0
      },
      "text/plain": [
       "interactive(children=(BoundedFloatText(value=110.0, description='Ausübungspreis:', max=150.0, min=50.0, step=1…"
      ]
     },
     "metadata": {},
     "output_type": "display_data"
    }
   ],
   "source": [
    "interactive_plot8"
   ]
  },
  {
   "cell_type": "markdown",
   "metadata": {
    "slideshow": {
     "slide_type": "skip"
    }
   },
   "source": [
    "# Tests"
   ]
  },
  {
   "cell_type": "code",
   "execution_count": 39,
   "metadata": {
    "slideshow": {
     "slide_type": "skip"
    }
   },
   "outputs": [
    {
     "name": "stdout",
     "output_type": "stream",
     "text": [
      "1.0\n"
     ]
    }
   ],
   "source": [
    "print(phi(x = 0,mu = 0 , sigma = 1)*math.sqrt(2*math.pi))"
   ]
  },
  {
   "cell_type": "code",
   "execution_count": 40,
   "metadata": {
    "slideshow": {
     "slide_type": "skip"
    }
   },
   "outputs": [
    {
     "name": "stdout",
     "output_type": "stream",
     "text": [
      "Optionspreis:1.35\n",
      "Delta: 0.24099615585831619\n",
      "Gamma: 0.031157518596646044\n",
      "Vega: 31.157518596646046\n",
      "Rho 22.745877220313464\n",
      "Theta: -2.012793474238572\n"
     ]
    }
   ],
   "source": [
    "S = 100\n",
    "K = 110\n",
    "t = 1\n",
    "r = 0.02\n",
    "sigma = 0.10\n",
    "print(\"Optionspreis:\" + str(calcCall(S,K, t,r, sigma)))\n",
    "print(\"Delta: \" + str(calcDeltaCall(S,K, t,r, sigma)))\n",
    "print(\"Gamma: \" + str(calcGammaCall(S,K, t,r, sigma)))\n",
    "print(\"Vega: \" + str(calcVegaCall(S,K, t,r, sigma)))\n",
    "print(\"Rho \" + str(calcRhoCall(S,K, t,r, sigma)))\n",
    "print(\"Theta: \" + str(calcThetaCall(S,K, t,r, sigma)))"
   ]
  },
  {
   "cell_type": "code",
   "execution_count": 41,
   "metadata": {
    "slideshow": {
     "slide_type": "skip"
    }
   },
   "outputs": [
    {
     "name": "stdout",
     "output_type": "stream",
     "text": [
      "(1.414213562373095, -2.220446049250313e-16)\n",
      "(138.38010557964273, 138.33010557964272)\n"
     ]
    }
   ],
   "source": [
    "#test CalcDs\n",
    "print(calcDs(S = 100, K = 100, r = 1, sigma = math.sqrt(2), t=1))\n",
    "print(calcDs(S = 1000,K = 1, t = 1, r = 0.01, sigma = 0.05))"
   ]
  },
  {
   "cell_type": "code",
   "execution_count": 42,
   "metadata": {
    "slideshow": {
     "slide_type": "skip"
    }
   },
   "outputs": [
    {
     "name": "stdout",
     "output_type": "stream",
     "text": [
      "999.01\n",
      "0.0\n"
     ]
    }
   ],
   "source": [
    "#test calcCall\n",
    "print(calcCall(S = 1000,K = 1, t = 1, r = 0.01, sigma = 0.05))\n",
    "print(calcCall(S = 100,K = 110, t = 1, r = 0.01, sigma = 0.00001))"
   ]
  },
  {
   "cell_type": "code",
   "execution_count": 43,
   "metadata": {
    "slideshow": {
     "slide_type": "skip"
    }
   },
   "outputs": [
    {
     "name": "stdout",
     "output_type": "stream",
     "text": [
      "2.52\n"
     ]
    }
   ],
   "source": [
    "print(calcCall(S = 100,K = 100, t = 1, r = 0.01, sigma = 0.05))"
   ]
  }
 ],
 "metadata": {
  "celltoolbar": "Slideshow",
  "kernelspec": {
   "display_name": "Python 3",
   "language": "python",
   "name": "python3"
  },
  "language_info": {
   "codemirror_mode": {
    "name": "ipython",
    "version": 3
   },
   "file_extension": ".py",
   "mimetype": "text/x-python",
   "name": "python",
   "nbconvert_exporter": "python",
   "pygments_lexer": "ipython3",
   "version": "3.8.3"
  },
  "livereveal": {
   "autolaunch": true,
   "scroll": true
  }
 },
 "nbformat": 4,
 "nbformat_minor": 4
}
