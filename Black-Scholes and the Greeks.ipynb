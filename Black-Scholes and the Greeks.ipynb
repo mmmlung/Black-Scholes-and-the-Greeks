{
 "cells": [
  {
   "cell_type": "markdown",
   "metadata": {
    "slideshow": {
     "slide_type": "skip"
    }
   },
   "source": [
    "# Imports"
   ]
  },
  {
   "cell_type": "code",
   "execution_count": 1,
   "metadata": {
    "slideshow": {
     "slide_type": "skip"
    }
   },
   "outputs": [],
   "source": [
    "from scipy.stats import norm as normal\n",
    "import math\n",
    "import numpy as np"
   ]
  },
  {
   "cell_type": "code",
   "execution_count": 2,
   "metadata": {
    "slideshow": {
     "slide_type": "skip"
    }
   },
   "outputs": [],
   "source": [
    "from __future__ import print_function\n",
    "from ipywidgets import interact, interactive, fixed, interact_manual\n",
    "import ipywidgets as widgets"
   ]
  },
  {
   "cell_type": "code",
   "execution_count": 3,
   "metadata": {
    "slideshow": {
     "slide_type": "skip"
    }
   },
   "outputs": [],
   "source": [
    "%matplotlib notebook"
   ]
  },
  {
   "cell_type": "code",
   "execution_count": 4,
   "metadata": {
    "slideshow": {
     "slide_type": "skip"
    }
   },
   "outputs": [],
   "source": [
    "import matplotlib.pyplot as plt\n",
    "from mpl_toolkits.mplot3d import Axes3D\n",
    "from pylab import MaxNLocator"
   ]
  },
  {
   "cell_type": "markdown",
   "metadata": {
    "slideshow": {
     "slide_type": "skip"
    }
   },
   "source": [
    "# Implementations Formulas"
   ]
  },
  {
   "cell_type": "markdown",
   "metadata": {},
   "source": [
    "## Price Formulas"
   ]
  },
  {
   "cell_type": "code",
   "execution_count": 5,
   "metadata": {
    "slideshow": {
     "slide_type": "fragment"
    }
   },
   "outputs": [],
   "source": [
    "def calcDs(S, K, r, sigma, t):\n",
    "    d1 = (math.log(S/K) + (r + sigma**2/2)*t)/(sigma * math.sqrt(t))\n",
    "    d2 = d1 - sigma * math.sqrt(t)\n",
    "    return (d1,d2)"
   ]
  },
  {
   "cell_type": "code",
   "execution_count": 6,
   "metadata": {
    "slideshow": {
     "slide_type": "fragment"
    }
   },
   "outputs": [],
   "source": [
    "def calcCall(S,K,t,r,sigma):\n",
    "    (d1,d2) = calcDs(S, K, r, sigma, t)\n",
    "    return round(S*normal.cdf(d1) - K *math.exp(-r*t)*normal.cdf(d2),2)\n",
    "\n",
    "def calcPut(S,K,t,r,sigma):\n",
    "    (d1,d2) = calcDs(S, K, r, sigma, t)\n",
    "    return round(K*math.exp(-r*t)*normal.cdf(-d2) - S * normal.cdf(-d1),2)"
   ]
  },
  {
   "cell_type": "code",
   "execution_count": 7,
   "metadata": {
    "slideshow": {
     "slide_type": "slide"
    }
   },
   "outputs": [],
   "source": [
    "def calcOption(optionType, S, K, t, r):\n",
    "    if optionType == \"Put\":\n",
    "        return calcPut(S, K, t, r, sigma)\n",
    "    if optionType == \"Call\":\n",
    "        return calcCall(S, K, t, r, sigma)        "
   ]
  },
  {
   "cell_type": "markdown",
   "metadata": {
    "slideshow": {
     "slide_type": "slide"
    }
   },
   "source": [
    "## Greeks"
   ]
  },
  {
   "cell_type": "code",
   "execution_count": 8,
   "metadata": {
    "slideshow": {
     "slide_type": "subslide"
    }
   },
   "outputs": [],
   "source": [
    "def calcDeltaCall(S,K, t,r, sigma):\n",
    "    d1 = calcDs(S, K, r, sigma, t)[0]\n",
    "    return normal.cdf(d1)"
   ]
  },
  {
   "cell_type": "code",
   "execution_count": 9,
   "metadata": {
    "slideshow": {
     "slide_type": "subslide"
    }
   },
   "outputs": [],
   "source": [
    "def calcThetaCall(S,K, t,r, sigma):\n",
    "    (d1,d2) = calcDs(S, K, r, sigma, t)\n",
    "    term1 = S*phi(d1,0,1)*sigma/(2*math.sqrt(t))\n",
    "    term2 = r*K*math.exp(-1*r*t)*normal.cdf(d2)\n",
    "    return -1*term1 - term2"
   ]
  },
  {
   "cell_type": "code",
   "execution_count": 10,
   "metadata": {
    "slideshow": {
     "slide_type": "subslide"
    }
   },
   "outputs": [],
   "source": [
    "def calcGammaCall(S,K, t,r, sigma):\n",
    "    d1 = calcDs(S, K, r, sigma, t)[0]\n",
    "    return phi(d1, 0,1)/(S*sigma*math.sqrt(t))"
   ]
  },
  {
   "cell_type": "code",
   "execution_count": 11,
   "metadata": {
    "slideshow": {
     "slide_type": "subslide"
    }
   },
   "outputs": [],
   "source": [
    "def calcVegaCall(S,K, t,r, sigma):\n",
    "    d1 = calcDs(S, K, r, sigma, t)[0]\n",
    "    term1 = S*phi(d1,0,1)\n",
    "    term2 = math.sqrt(t)\n",
    "    return term1 *term2"
   ]
  },
  {
   "cell_type": "code",
   "execution_count": 12,
   "metadata": {
    "slideshow": {
     "slide_type": "subslide"
    }
   },
   "outputs": [],
   "source": [
    "def calcRhoCall(S,K, t,r, sigma):\n",
    "    (d1,d2) = calcDs(S, K, r, sigma, t)\n",
    "    term1 = t*K*math.exp(-1*r*t)\n",
    "    term2 = normal.cdf(d2)\n",
    "    return term1*term2"
   ]
  },
  {
   "cell_type": "markdown",
   "metadata": {},
   "source": [
    "# Utils"
   ]
  },
  {
   "cell_type": "code",
   "execution_count": 13,
   "metadata": {},
   "outputs": [],
   "source": [
    "def phi(x,mu, sigma):\n",
    "    return 1/math.sqrt(2*math.pi * sigma**2 )*math.exp(-(x-mu)**2/(2*(sigma**2)))\n",
    "    "
   ]
  },
  {
   "cell_type": "markdown",
   "metadata": {
    "slideshow": {
     "slide_type": "subslide"
    }
   },
   "source": [
    "# Implementation Interactions"
   ]
  },
  {
   "cell_type": "markdown",
   "metadata": {},
   "source": [
    "# Visualization"
   ]
  },
  {
   "cell_type": "code",
   "execution_count": 14,
   "metadata": {},
   "outputs": [
    {
     "data": {
      "application/javascript": [
       "/* Put everything inside the global mpl namespace */\n",
       "window.mpl = {};\n",
       "\n",
       "\n",
       "mpl.get_websocket_type = function() {\n",
       "    if (typeof(WebSocket) !== 'undefined') {\n",
       "        return WebSocket;\n",
       "    } else if (typeof(MozWebSocket) !== 'undefined') {\n",
       "        return MozWebSocket;\n",
       "    } else {\n",
       "        alert('Your browser does not have WebSocket support. ' +\n",
       "              'Please try Chrome, Safari or Firefox ≥ 6. ' +\n",
       "              'Firefox 4 and 5 are also supported but you ' +\n",
       "              'have to enable WebSockets in about:config.');\n",
       "    };\n",
       "}\n",
       "\n",
       "mpl.figure = function(figure_id, websocket, ondownload, parent_element) {\n",
       "    this.id = figure_id;\n",
       "\n",
       "    this.ws = websocket;\n",
       "\n",
       "    this.supports_binary = (this.ws.binaryType != undefined);\n",
       "\n",
       "    if (!this.supports_binary) {\n",
       "        var warnings = document.getElementById(\"mpl-warnings\");\n",
       "        if (warnings) {\n",
       "            warnings.style.display = 'block';\n",
       "            warnings.textContent = (\n",
       "                \"This browser does not support binary websocket messages. \" +\n",
       "                    \"Performance may be slow.\");\n",
       "        }\n",
       "    }\n",
       "\n",
       "    this.imageObj = new Image();\n",
       "\n",
       "    this.context = undefined;\n",
       "    this.message = undefined;\n",
       "    this.canvas = undefined;\n",
       "    this.rubberband_canvas = undefined;\n",
       "    this.rubberband_context = undefined;\n",
       "    this.format_dropdown = undefined;\n",
       "\n",
       "    this.image_mode = 'full';\n",
       "\n",
       "    this.root = $('<div/>');\n",
       "    this._root_extra_style(this.root)\n",
       "    this.root.attr('style', 'display: inline-block');\n",
       "\n",
       "    $(parent_element).append(this.root);\n",
       "\n",
       "    this._init_header(this);\n",
       "    this._init_canvas(this);\n",
       "    this._init_toolbar(this);\n",
       "\n",
       "    var fig = this;\n",
       "\n",
       "    this.waiting = false;\n",
       "\n",
       "    this.ws.onopen =  function () {\n",
       "            fig.send_message(\"supports_binary\", {value: fig.supports_binary});\n",
       "            fig.send_message(\"send_image_mode\", {});\n",
       "            if (mpl.ratio != 1) {\n",
       "                fig.send_message(\"set_dpi_ratio\", {'dpi_ratio': mpl.ratio});\n",
       "            }\n",
       "            fig.send_message(\"refresh\", {});\n",
       "        }\n",
       "\n",
       "    this.imageObj.onload = function() {\n",
       "            if (fig.image_mode == 'full') {\n",
       "                // Full images could contain transparency (where diff images\n",
       "                // almost always do), so we need to clear the canvas so that\n",
       "                // there is no ghosting.\n",
       "                fig.context.clearRect(0, 0, fig.canvas.width, fig.canvas.height);\n",
       "            }\n",
       "            fig.context.drawImage(fig.imageObj, 0, 0);\n",
       "        };\n",
       "\n",
       "    this.imageObj.onunload = function() {\n",
       "        fig.ws.close();\n",
       "    }\n",
       "\n",
       "    this.ws.onmessage = this._make_on_message_function(this);\n",
       "\n",
       "    this.ondownload = ondownload;\n",
       "}\n",
       "\n",
       "mpl.figure.prototype._init_header = function() {\n",
       "    var titlebar = $(\n",
       "        '<div class=\"ui-dialog-titlebar ui-widget-header ui-corner-all ' +\n",
       "        'ui-helper-clearfix\"/>');\n",
       "    var titletext = $(\n",
       "        '<div class=\"ui-dialog-title\" style=\"width: 100%; ' +\n",
       "        'text-align: center; padding: 3px;\"/>');\n",
       "    titlebar.append(titletext)\n",
       "    this.root.append(titlebar);\n",
       "    this.header = titletext[0];\n",
       "}\n",
       "\n",
       "\n",
       "\n",
       "mpl.figure.prototype._canvas_extra_style = function(canvas_div) {\n",
       "\n",
       "}\n",
       "\n",
       "\n",
       "mpl.figure.prototype._root_extra_style = function(canvas_div) {\n",
       "\n",
       "}\n",
       "\n",
       "mpl.figure.prototype._init_canvas = function() {\n",
       "    var fig = this;\n",
       "\n",
       "    var canvas_div = $('<div/>');\n",
       "\n",
       "    canvas_div.attr('style', 'position: relative; clear: both; outline: 0');\n",
       "\n",
       "    function canvas_keyboard_event(event) {\n",
       "        return fig.key_event(event, event['data']);\n",
       "    }\n",
       "\n",
       "    canvas_div.keydown('key_press', canvas_keyboard_event);\n",
       "    canvas_div.keyup('key_release', canvas_keyboard_event);\n",
       "    this.canvas_div = canvas_div\n",
       "    this._canvas_extra_style(canvas_div)\n",
       "    this.root.append(canvas_div);\n",
       "\n",
       "    var canvas = $('<canvas/>');\n",
       "    canvas.addClass('mpl-canvas');\n",
       "    canvas.attr('style', \"left: 0; top: 0; z-index: 0; outline: 0\")\n",
       "\n",
       "    this.canvas = canvas[0];\n",
       "    this.context = canvas[0].getContext(\"2d\");\n",
       "\n",
       "    var backingStore = this.context.backingStorePixelRatio ||\n",
       "\tthis.context.webkitBackingStorePixelRatio ||\n",
       "\tthis.context.mozBackingStorePixelRatio ||\n",
       "\tthis.context.msBackingStorePixelRatio ||\n",
       "\tthis.context.oBackingStorePixelRatio ||\n",
       "\tthis.context.backingStorePixelRatio || 1;\n",
       "\n",
       "    mpl.ratio = (window.devicePixelRatio || 1) / backingStore;\n",
       "\n",
       "    var rubberband = $('<canvas/>');\n",
       "    rubberband.attr('style', \"position: absolute; left: 0; top: 0; z-index: 1;\")\n",
       "\n",
       "    var pass_mouse_events = true;\n",
       "\n",
       "    canvas_div.resizable({\n",
       "        start: function(event, ui) {\n",
       "            pass_mouse_events = false;\n",
       "        },\n",
       "        resize: function(event, ui) {\n",
       "            fig.request_resize(ui.size.width, ui.size.height);\n",
       "        },\n",
       "        stop: function(event, ui) {\n",
       "            pass_mouse_events = true;\n",
       "            fig.request_resize(ui.size.width, ui.size.height);\n",
       "        },\n",
       "    });\n",
       "\n",
       "    function mouse_event_fn(event) {\n",
       "        if (pass_mouse_events)\n",
       "            return fig.mouse_event(event, event['data']);\n",
       "    }\n",
       "\n",
       "    rubberband.mousedown('button_press', mouse_event_fn);\n",
       "    rubberband.mouseup('button_release', mouse_event_fn);\n",
       "    // Throttle sequential mouse events to 1 every 20ms.\n",
       "    rubberband.mousemove('motion_notify', mouse_event_fn);\n",
       "\n",
       "    rubberband.mouseenter('figure_enter', mouse_event_fn);\n",
       "    rubberband.mouseleave('figure_leave', mouse_event_fn);\n",
       "\n",
       "    canvas_div.on(\"wheel\", function (event) {\n",
       "        event = event.originalEvent;\n",
       "        event['data'] = 'scroll'\n",
       "        if (event.deltaY < 0) {\n",
       "            event.step = 1;\n",
       "        } else {\n",
       "            event.step = -1;\n",
       "        }\n",
       "        mouse_event_fn(event);\n",
       "    });\n",
       "\n",
       "    canvas_div.append(canvas);\n",
       "    canvas_div.append(rubberband);\n",
       "\n",
       "    this.rubberband = rubberband;\n",
       "    this.rubberband_canvas = rubberband[0];\n",
       "    this.rubberband_context = rubberband[0].getContext(\"2d\");\n",
       "    this.rubberband_context.strokeStyle = \"#000000\";\n",
       "\n",
       "    this._resize_canvas = function(width, height) {\n",
       "        // Keep the size of the canvas, canvas container, and rubber band\n",
       "        // canvas in synch.\n",
       "        canvas_div.css('width', width)\n",
       "        canvas_div.css('height', height)\n",
       "\n",
       "        canvas.attr('width', width * mpl.ratio);\n",
       "        canvas.attr('height', height * mpl.ratio);\n",
       "        canvas.attr('style', 'width: ' + width + 'px; height: ' + height + 'px;');\n",
       "\n",
       "        rubberband.attr('width', width);\n",
       "        rubberband.attr('height', height);\n",
       "    }\n",
       "\n",
       "    // Set the figure to an initial 600x600px, this will subsequently be updated\n",
       "    // upon first draw.\n",
       "    this._resize_canvas(600, 600);\n",
       "\n",
       "    // Disable right mouse context menu.\n",
       "    $(this.rubberband_canvas).bind(\"contextmenu\",function(e){\n",
       "        return false;\n",
       "    });\n",
       "\n",
       "    function set_focus () {\n",
       "        canvas.focus();\n",
       "        canvas_div.focus();\n",
       "    }\n",
       "\n",
       "    window.setTimeout(set_focus, 100);\n",
       "}\n",
       "\n",
       "mpl.figure.prototype._init_toolbar = function() {\n",
       "    var fig = this;\n",
       "\n",
       "    var nav_element = $('<div/>');\n",
       "    nav_element.attr('style', 'width: 100%');\n",
       "    this.root.append(nav_element);\n",
       "\n",
       "    // Define a callback function for later on.\n",
       "    function toolbar_event(event) {\n",
       "        return fig.toolbar_button_onclick(event['data']);\n",
       "    }\n",
       "    function toolbar_mouse_event(event) {\n",
       "        return fig.toolbar_button_onmouseover(event['data']);\n",
       "    }\n",
       "\n",
       "    for(var toolbar_ind in mpl.toolbar_items) {\n",
       "        var name = mpl.toolbar_items[toolbar_ind][0];\n",
       "        var tooltip = mpl.toolbar_items[toolbar_ind][1];\n",
       "        var image = mpl.toolbar_items[toolbar_ind][2];\n",
       "        var method_name = mpl.toolbar_items[toolbar_ind][3];\n",
       "\n",
       "        if (!name) {\n",
       "            // put a spacer in here.\n",
       "            continue;\n",
       "        }\n",
       "        var button = $('<button/>');\n",
       "        button.addClass('ui-button ui-widget ui-state-default ui-corner-all ' +\n",
       "                        'ui-button-icon-only');\n",
       "        button.attr('role', 'button');\n",
       "        button.attr('aria-disabled', 'false');\n",
       "        button.click(method_name, toolbar_event);\n",
       "        button.mouseover(tooltip, toolbar_mouse_event);\n",
       "\n",
       "        var icon_img = $('<span/>');\n",
       "        icon_img.addClass('ui-button-icon-primary ui-icon');\n",
       "        icon_img.addClass(image);\n",
       "        icon_img.addClass('ui-corner-all');\n",
       "\n",
       "        var tooltip_span = $('<span/>');\n",
       "        tooltip_span.addClass('ui-button-text');\n",
       "        tooltip_span.html(tooltip);\n",
       "\n",
       "        button.append(icon_img);\n",
       "        button.append(tooltip_span);\n",
       "\n",
       "        nav_element.append(button);\n",
       "    }\n",
       "\n",
       "    var fmt_picker_span = $('<span/>');\n",
       "\n",
       "    var fmt_picker = $('<select/>');\n",
       "    fmt_picker.addClass('mpl-toolbar-option ui-widget ui-widget-content');\n",
       "    fmt_picker_span.append(fmt_picker);\n",
       "    nav_element.append(fmt_picker_span);\n",
       "    this.format_dropdown = fmt_picker[0];\n",
       "\n",
       "    for (var ind in mpl.extensions) {\n",
       "        var fmt = mpl.extensions[ind];\n",
       "        var option = $(\n",
       "            '<option/>', {selected: fmt === mpl.default_extension}).html(fmt);\n",
       "        fmt_picker.append(option);\n",
       "    }\n",
       "\n",
       "    // Add hover states to the ui-buttons\n",
       "    $( \".ui-button\" ).hover(\n",
       "        function() { $(this).addClass(\"ui-state-hover\");},\n",
       "        function() { $(this).removeClass(\"ui-state-hover\");}\n",
       "    );\n",
       "\n",
       "    var status_bar = $('<span class=\"mpl-message\"/>');\n",
       "    nav_element.append(status_bar);\n",
       "    this.message = status_bar[0];\n",
       "}\n",
       "\n",
       "mpl.figure.prototype.request_resize = function(x_pixels, y_pixels) {\n",
       "    // Request matplotlib to resize the figure. Matplotlib will then trigger a resize in the client,\n",
       "    // which will in turn request a refresh of the image.\n",
       "    this.send_message('resize', {'width': x_pixels, 'height': y_pixels});\n",
       "}\n",
       "\n",
       "mpl.figure.prototype.send_message = function(type, properties) {\n",
       "    properties['type'] = type;\n",
       "    properties['figure_id'] = this.id;\n",
       "    this.ws.send(JSON.stringify(properties));\n",
       "}\n",
       "\n",
       "mpl.figure.prototype.send_draw_message = function() {\n",
       "    if (!this.waiting) {\n",
       "        this.waiting = true;\n",
       "        this.ws.send(JSON.stringify({type: \"draw\", figure_id: this.id}));\n",
       "    }\n",
       "}\n",
       "\n",
       "\n",
       "mpl.figure.prototype.handle_save = function(fig, msg) {\n",
       "    var format_dropdown = fig.format_dropdown;\n",
       "    var format = format_dropdown.options[format_dropdown.selectedIndex].value;\n",
       "    fig.ondownload(fig, format);\n",
       "}\n",
       "\n",
       "\n",
       "mpl.figure.prototype.handle_resize = function(fig, msg) {\n",
       "    var size = msg['size'];\n",
       "    if (size[0] != fig.canvas.width || size[1] != fig.canvas.height) {\n",
       "        fig._resize_canvas(size[0], size[1]);\n",
       "        fig.send_message(\"refresh\", {});\n",
       "    };\n",
       "}\n",
       "\n",
       "mpl.figure.prototype.handle_rubberband = function(fig, msg) {\n",
       "    var x0 = msg['x0'] / mpl.ratio;\n",
       "    var y0 = (fig.canvas.height - msg['y0']) / mpl.ratio;\n",
       "    var x1 = msg['x1'] / mpl.ratio;\n",
       "    var y1 = (fig.canvas.height - msg['y1']) / mpl.ratio;\n",
       "    x0 = Math.floor(x0) + 0.5;\n",
       "    y0 = Math.floor(y0) + 0.5;\n",
       "    x1 = Math.floor(x1) + 0.5;\n",
       "    y1 = Math.floor(y1) + 0.5;\n",
       "    var min_x = Math.min(x0, x1);\n",
       "    var min_y = Math.min(y0, y1);\n",
       "    var width = Math.abs(x1 - x0);\n",
       "    var height = Math.abs(y1 - y0);\n",
       "\n",
       "    fig.rubberband_context.clearRect(\n",
       "        0, 0, fig.canvas.width / mpl.ratio, fig.canvas.height / mpl.ratio);\n",
       "\n",
       "    fig.rubberband_context.strokeRect(min_x, min_y, width, height);\n",
       "}\n",
       "\n",
       "mpl.figure.prototype.handle_figure_label = function(fig, msg) {\n",
       "    // Updates the figure title.\n",
       "    fig.header.textContent = msg['label'];\n",
       "}\n",
       "\n",
       "mpl.figure.prototype.handle_cursor = function(fig, msg) {\n",
       "    var cursor = msg['cursor'];\n",
       "    switch(cursor)\n",
       "    {\n",
       "    case 0:\n",
       "        cursor = 'pointer';\n",
       "        break;\n",
       "    case 1:\n",
       "        cursor = 'default';\n",
       "        break;\n",
       "    case 2:\n",
       "        cursor = 'crosshair';\n",
       "        break;\n",
       "    case 3:\n",
       "        cursor = 'move';\n",
       "        break;\n",
       "    }\n",
       "    fig.rubberband_canvas.style.cursor = cursor;\n",
       "}\n",
       "\n",
       "mpl.figure.prototype.handle_message = function(fig, msg) {\n",
       "    fig.message.textContent = msg['message'];\n",
       "}\n",
       "\n",
       "mpl.figure.prototype.handle_draw = function(fig, msg) {\n",
       "    // Request the server to send over a new figure.\n",
       "    fig.send_draw_message();\n",
       "}\n",
       "\n",
       "mpl.figure.prototype.handle_image_mode = function(fig, msg) {\n",
       "    fig.image_mode = msg['mode'];\n",
       "}\n",
       "\n",
       "mpl.figure.prototype.updated_canvas_event = function() {\n",
       "    // Called whenever the canvas gets updated.\n",
       "    this.send_message(\"ack\", {});\n",
       "}\n",
       "\n",
       "// A function to construct a web socket function for onmessage handling.\n",
       "// Called in the figure constructor.\n",
       "mpl.figure.prototype._make_on_message_function = function(fig) {\n",
       "    return function socket_on_message(evt) {\n",
       "        if (evt.data instanceof Blob) {\n",
       "            /* FIXME: We get \"Resource interpreted as Image but\n",
       "             * transferred with MIME type text/plain:\" errors on\n",
       "             * Chrome.  But how to set the MIME type?  It doesn't seem\n",
       "             * to be part of the websocket stream */\n",
       "            evt.data.type = \"image/png\";\n",
       "\n",
       "            /* Free the memory for the previous frames */\n",
       "            if (fig.imageObj.src) {\n",
       "                (window.URL || window.webkitURL).revokeObjectURL(\n",
       "                    fig.imageObj.src);\n",
       "            }\n",
       "\n",
       "            fig.imageObj.src = (window.URL || window.webkitURL).createObjectURL(\n",
       "                evt.data);\n",
       "            fig.updated_canvas_event();\n",
       "            fig.waiting = false;\n",
       "            return;\n",
       "        }\n",
       "        else if (typeof evt.data === 'string' && evt.data.slice(0, 21) == \"data:image/png;base64\") {\n",
       "            fig.imageObj.src = evt.data;\n",
       "            fig.updated_canvas_event();\n",
       "            fig.waiting = false;\n",
       "            return;\n",
       "        }\n",
       "\n",
       "        var msg = JSON.parse(evt.data);\n",
       "        var msg_type = msg['type'];\n",
       "\n",
       "        // Call the  \"handle_{type}\" callback, which takes\n",
       "        // the figure and JSON message as its only arguments.\n",
       "        try {\n",
       "            var callback = fig[\"handle_\" + msg_type];\n",
       "        } catch (e) {\n",
       "            console.log(\"No handler for the '\" + msg_type + \"' message type: \", msg);\n",
       "            return;\n",
       "        }\n",
       "\n",
       "        if (callback) {\n",
       "            try {\n",
       "                // console.log(\"Handling '\" + msg_type + \"' message: \", msg);\n",
       "                callback(fig, msg);\n",
       "            } catch (e) {\n",
       "                console.log(\"Exception inside the 'handler_\" + msg_type + \"' callback:\", e, e.stack, msg);\n",
       "            }\n",
       "        }\n",
       "    };\n",
       "}\n",
       "\n",
       "// from http://stackoverflow.com/questions/1114465/getting-mouse-location-in-canvas\n",
       "mpl.findpos = function(e) {\n",
       "    //this section is from http://www.quirksmode.org/js/events_properties.html\n",
       "    var targ;\n",
       "    if (!e)\n",
       "        e = window.event;\n",
       "    if (e.target)\n",
       "        targ = e.target;\n",
       "    else if (e.srcElement)\n",
       "        targ = e.srcElement;\n",
       "    if (targ.nodeType == 3) // defeat Safari bug\n",
       "        targ = targ.parentNode;\n",
       "\n",
       "    // jQuery normalizes the pageX and pageY\n",
       "    // pageX,Y are the mouse positions relative to the document\n",
       "    // offset() returns the position of the element relative to the document\n",
       "    var x = e.pageX - $(targ).offset().left;\n",
       "    var y = e.pageY - $(targ).offset().top;\n",
       "\n",
       "    return {\"x\": x, \"y\": y};\n",
       "};\n",
       "\n",
       "/*\n",
       " * return a copy of an object with only non-object keys\n",
       " * we need this to avoid circular references\n",
       " * http://stackoverflow.com/a/24161582/3208463\n",
       " */\n",
       "function simpleKeys (original) {\n",
       "  return Object.keys(original).reduce(function (obj, key) {\n",
       "    if (typeof original[key] !== 'object')\n",
       "        obj[key] = original[key]\n",
       "    return obj;\n",
       "  }, {});\n",
       "}\n",
       "\n",
       "mpl.figure.prototype.mouse_event = function(event, name) {\n",
       "    var canvas_pos = mpl.findpos(event)\n",
       "\n",
       "    if (name === 'button_press')\n",
       "    {\n",
       "        this.canvas.focus();\n",
       "        this.canvas_div.focus();\n",
       "    }\n",
       "\n",
       "    var x = canvas_pos.x * mpl.ratio;\n",
       "    var y = canvas_pos.y * mpl.ratio;\n",
       "\n",
       "    this.send_message(name, {x: x, y: y, button: event.button,\n",
       "                             step: event.step,\n",
       "                             guiEvent: simpleKeys(event)});\n",
       "\n",
       "    /* This prevents the web browser from automatically changing to\n",
       "     * the text insertion cursor when the button is pressed.  We want\n",
       "     * to control all of the cursor setting manually through the\n",
       "     * 'cursor' event from matplotlib */\n",
       "    event.preventDefault();\n",
       "    return false;\n",
       "}\n",
       "\n",
       "mpl.figure.prototype._key_event_extra = function(event, name) {\n",
       "    // Handle any extra behaviour associated with a key event\n",
       "}\n",
       "\n",
       "mpl.figure.prototype.key_event = function(event, name) {\n",
       "\n",
       "    // Prevent repeat events\n",
       "    if (name == 'key_press')\n",
       "    {\n",
       "        if (event.which === this._key)\n",
       "            return;\n",
       "        else\n",
       "            this._key = event.which;\n",
       "    }\n",
       "    if (name == 'key_release')\n",
       "        this._key = null;\n",
       "\n",
       "    var value = '';\n",
       "    if (event.ctrlKey && event.which != 17)\n",
       "        value += \"ctrl+\";\n",
       "    if (event.altKey && event.which != 18)\n",
       "        value += \"alt+\";\n",
       "    if (event.shiftKey && event.which != 16)\n",
       "        value += \"shift+\";\n",
       "\n",
       "    value += 'k';\n",
       "    value += event.which.toString();\n",
       "\n",
       "    this._key_event_extra(event, name);\n",
       "\n",
       "    this.send_message(name, {key: value,\n",
       "                             guiEvent: simpleKeys(event)});\n",
       "    return false;\n",
       "}\n",
       "\n",
       "mpl.figure.prototype.toolbar_button_onclick = function(name) {\n",
       "    if (name == 'download') {\n",
       "        this.handle_save(this, null);\n",
       "    } else {\n",
       "        this.send_message(\"toolbar_button\", {name: name});\n",
       "    }\n",
       "};\n",
       "\n",
       "mpl.figure.prototype.toolbar_button_onmouseover = function(tooltip) {\n",
       "    this.message.textContent = tooltip;\n",
       "};\n",
       "mpl.toolbar_items = [[\"Home\", \"Reset original view\", \"fa fa-home icon-home\", \"home\"], [\"Back\", \"Back to previous view\", \"fa fa-arrow-left icon-arrow-left\", \"back\"], [\"Forward\", \"Forward to next view\", \"fa fa-arrow-right icon-arrow-right\", \"forward\"], [\"\", \"\", \"\", \"\"], [\"Pan\", \"Pan axes with left mouse, zoom with right\", \"fa fa-arrows icon-move\", \"pan\"], [\"Zoom\", \"Zoom to rectangle\", \"fa fa-square-o icon-check-empty\", \"zoom\"], [\"\", \"\", \"\", \"\"], [\"Download\", \"Download plot\", \"fa fa-floppy-o icon-save\", \"download\"]];\n",
       "\n",
       "mpl.extensions = [\"eps\", \"jpeg\", \"pdf\", \"png\", \"ps\", \"raw\", \"svg\", \"tif\"];\n",
       "\n",
       "mpl.default_extension = \"png\";var comm_websocket_adapter = function(comm) {\n",
       "    // Create a \"websocket\"-like object which calls the given IPython comm\n",
       "    // object with the appropriate methods. Currently this is a non binary\n",
       "    // socket, so there is still some room for performance tuning.\n",
       "    var ws = {};\n",
       "\n",
       "    ws.close = function() {\n",
       "        comm.close()\n",
       "    };\n",
       "    ws.send = function(m) {\n",
       "        //console.log('sending', m);\n",
       "        comm.send(m);\n",
       "    };\n",
       "    // Register the callback with on_msg.\n",
       "    comm.on_msg(function(msg) {\n",
       "        //console.log('receiving', msg['content']['data'], msg);\n",
       "        // Pass the mpl event to the overridden (by mpl) onmessage function.\n",
       "        ws.onmessage(msg['content']['data'])\n",
       "    });\n",
       "    return ws;\n",
       "}\n",
       "\n",
       "mpl.mpl_figure_comm = function(comm, msg) {\n",
       "    // This is the function which gets called when the mpl process\n",
       "    // starts-up an IPython Comm through the \"matplotlib\" channel.\n",
       "\n",
       "    var id = msg.content.data.id;\n",
       "    // Get hold of the div created by the display call when the Comm\n",
       "    // socket was opened in Python.\n",
       "    var element = $(\"#\" + id);\n",
       "    var ws_proxy = comm_websocket_adapter(comm)\n",
       "\n",
       "    function ondownload(figure, format) {\n",
       "        window.open(figure.imageObj.src);\n",
       "    }\n",
       "\n",
       "    var fig = new mpl.figure(id, ws_proxy,\n",
       "                           ondownload,\n",
       "                           element.get(0));\n",
       "\n",
       "    // Call onopen now - mpl needs it, as it is assuming we've passed it a real\n",
       "    // web socket which is closed, not our websocket->open comm proxy.\n",
       "    ws_proxy.onopen();\n",
       "\n",
       "    fig.parent_element = element.get(0);\n",
       "    fig.cell_info = mpl.find_output_cell(\"<div id='\" + id + \"'></div>\");\n",
       "    if (!fig.cell_info) {\n",
       "        console.error(\"Failed to find cell for figure\", id, fig);\n",
       "        return;\n",
       "    }\n",
       "\n",
       "    var output_index = fig.cell_info[2]\n",
       "    var cell = fig.cell_info[0];\n",
       "\n",
       "};\n",
       "\n",
       "mpl.figure.prototype.handle_close = function(fig, msg) {\n",
       "    var width = fig.canvas.width/mpl.ratio\n",
       "    fig.root.unbind('remove')\n",
       "\n",
       "    // Update the output cell to use the data from the current canvas.\n",
       "    fig.push_to_output();\n",
       "    var dataURL = fig.canvas.toDataURL();\n",
       "    // Re-enable the keyboard manager in IPython - without this line, in FF,\n",
       "    // the notebook keyboard shortcuts fail.\n",
       "    IPython.keyboard_manager.enable()\n",
       "    $(fig.parent_element).html('<img src=\"' + dataURL + '\" width=\"' + width + '\">');\n",
       "    fig.close_ws(fig, msg);\n",
       "}\n",
       "\n",
       "mpl.figure.prototype.close_ws = function(fig, msg){\n",
       "    fig.send_message('closing', msg);\n",
       "    // fig.ws.close()\n",
       "}\n",
       "\n",
       "mpl.figure.prototype.push_to_output = function(remove_interactive) {\n",
       "    // Turn the data on the canvas into data in the output cell.\n",
       "    var width = this.canvas.width/mpl.ratio\n",
       "    var dataURL = this.canvas.toDataURL();\n",
       "    this.cell_info[1]['text/html'] = '<img src=\"' + dataURL + '\" width=\"' + width + '\">';\n",
       "}\n",
       "\n",
       "mpl.figure.prototype.updated_canvas_event = function() {\n",
       "    // Tell IPython that the notebook contents must change.\n",
       "    IPython.notebook.set_dirty(true);\n",
       "    this.send_message(\"ack\", {});\n",
       "    var fig = this;\n",
       "    // Wait a second, then push the new image to the DOM so\n",
       "    // that it is saved nicely (might be nice to debounce this).\n",
       "    setTimeout(function () { fig.push_to_output() }, 1000);\n",
       "}\n",
       "\n",
       "mpl.figure.prototype._init_toolbar = function() {\n",
       "    var fig = this;\n",
       "\n",
       "    var nav_element = $('<div/>');\n",
       "    nav_element.attr('style', 'width: 100%');\n",
       "    this.root.append(nav_element);\n",
       "\n",
       "    // Define a callback function for later on.\n",
       "    function toolbar_event(event) {\n",
       "        return fig.toolbar_button_onclick(event['data']);\n",
       "    }\n",
       "    function toolbar_mouse_event(event) {\n",
       "        return fig.toolbar_button_onmouseover(event['data']);\n",
       "    }\n",
       "\n",
       "    for(var toolbar_ind in mpl.toolbar_items){\n",
       "        var name = mpl.toolbar_items[toolbar_ind][0];\n",
       "        var tooltip = mpl.toolbar_items[toolbar_ind][1];\n",
       "        var image = mpl.toolbar_items[toolbar_ind][2];\n",
       "        var method_name = mpl.toolbar_items[toolbar_ind][3];\n",
       "\n",
       "        if (!name) { continue; };\n",
       "\n",
       "        var button = $('<button class=\"btn btn-default\" href=\"#\" title=\"' + name + '\"><i class=\"fa ' + image + ' fa-lg\"></i></button>');\n",
       "        button.click(method_name, toolbar_event);\n",
       "        button.mouseover(tooltip, toolbar_mouse_event);\n",
       "        nav_element.append(button);\n",
       "    }\n",
       "\n",
       "    // Add the status bar.\n",
       "    var status_bar = $('<span class=\"mpl-message\" style=\"text-align:right; float: right;\"/>');\n",
       "    nav_element.append(status_bar);\n",
       "    this.message = status_bar[0];\n",
       "\n",
       "    // Add the close button to the window.\n",
       "    var buttongrp = $('<div class=\"btn-group inline pull-right\"></div>');\n",
       "    var button = $('<button class=\"btn btn-mini btn-primary\" href=\"#\" title=\"Stop Interaction\"><i class=\"fa fa-power-off icon-remove icon-large\"></i></button>');\n",
       "    button.click(function (evt) { fig.handle_close(fig, {}); } );\n",
       "    button.mouseover('Stop Interaction', toolbar_mouse_event);\n",
       "    buttongrp.append(button);\n",
       "    var titlebar = this.root.find($('.ui-dialog-titlebar'));\n",
       "    titlebar.prepend(buttongrp);\n",
       "}\n",
       "\n",
       "mpl.figure.prototype._root_extra_style = function(el){\n",
       "    var fig = this\n",
       "    el.on(\"remove\", function(){\n",
       "\tfig.close_ws(fig, {});\n",
       "    });\n",
       "}\n",
       "\n",
       "mpl.figure.prototype._canvas_extra_style = function(el){\n",
       "    // this is important to make the div 'focusable\n",
       "    el.attr('tabindex', 0)\n",
       "    // reach out to IPython and tell the keyboard manager to turn it's self\n",
       "    // off when our div gets focus\n",
       "\n",
       "    // location in version 3\n",
       "    if (IPython.notebook.keyboard_manager) {\n",
       "        IPython.notebook.keyboard_manager.register_events(el);\n",
       "    }\n",
       "    else {\n",
       "        // location in version 2\n",
       "        IPython.keyboard_manager.register_events(el);\n",
       "    }\n",
       "\n",
       "}\n",
       "\n",
       "mpl.figure.prototype._key_event_extra = function(event, name) {\n",
       "    var manager = IPython.notebook.keyboard_manager;\n",
       "    if (!manager)\n",
       "        manager = IPython.keyboard_manager;\n",
       "\n",
       "    // Check for shift+enter\n",
       "    if (event.shiftKey && event.which == 13) {\n",
       "        this.canvas_div.blur();\n",
       "        // select the cell after this one\n",
       "        var index = IPython.notebook.find_cell_index(this.cell_info[0]);\n",
       "        IPython.notebook.select(index + 1);\n",
       "    }\n",
       "}\n",
       "\n",
       "mpl.figure.prototype.handle_save = function(fig, msg) {\n",
       "    fig.ondownload(fig, null);\n",
       "}\n",
       "\n",
       "\n",
       "mpl.find_output_cell = function(html_output) {\n",
       "    // Return the cell and output element which can be found *uniquely* in the notebook.\n",
       "    // Note - this is a bit hacky, but it is done because the \"notebook_saving.Notebook\"\n",
       "    // IPython event is triggered only after the cells have been serialised, which for\n",
       "    // our purposes (turning an active figure into a static one), is too late.\n",
       "    var cells = IPython.notebook.get_cells();\n",
       "    var ncells = cells.length;\n",
       "    for (var i=0; i<ncells; i++) {\n",
       "        var cell = cells[i];\n",
       "        if (cell.cell_type === 'code'){\n",
       "            for (var j=0; j<cell.output_area.outputs.length; j++) {\n",
       "                var data = cell.output_area.outputs[j];\n",
       "                if (data.data) {\n",
       "                    // IPython >= 3 moved mimebundle to data attribute of output\n",
       "                    data = data.data;\n",
       "                }\n",
       "                if (data['text/html'] == html_output) {\n",
       "                    return [cell, data, j];\n",
       "                }\n",
       "            }\n",
       "        }\n",
       "    }\n",
       "}\n",
       "\n",
       "// Register the function which deals with the matplotlib target/channel.\n",
       "// The kernel may be null if the page has been refreshed.\n",
       "if (IPython.notebook.kernel != null) {\n",
       "    IPython.notebook.kernel.comm_manager.register_target('matplotlib', mpl.mpl_figure_comm);\n",
       "}\n"
      ],
      "text/plain": [
       "<IPython.core.display.Javascript object>"
      ]
     },
     "metadata": {},
     "output_type": "display_data"
    },
    {
     "data": {
      "text/html": [
       "<img src=\"data:image/png;base64,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\" width=\"640\">"
      ],
      "text/plain": [
       "<IPython.core.display.HTML object>"
      ]
     },
     "metadata": {},
     "output_type": "display_data"
    }
   ],
   "source": [
    "Strikes = np.arange(50, 150)\n",
    "vals_call = [calcCall(100,K, 1 , 0.02, 0.10) for K in Strikes]\n",
    "vals_put = [calcPut(100,K, 1 , 0.02, 0.10) for K in Strikes]\n",
    "plt.plot(Strikes,vals_call, 'r', label = \"Call\")\n",
    "plt.plot(Strikes, vals_put, 'b', label  = \"Put\")\n",
    "plt.legend()\n",
    "plt.ylabel(\"Option Price ($)\")\n",
    "plt.xlabel(\"Strike Price ($)\")\n",
    "plt.show()"
   ]
  },
  {
   "cell_type": "code",
   "execution_count": 15,
   "metadata": {},
   "outputs": [],
   "source": [
    "def plotPricePutCallByStrike(S,t,r,sigma):\n",
    "    fig = plt.figure()\n",
    "    Strikes = np.arange(50, 150)\n",
    "    vals_call = [calcCall(S,K, t , r, sigma) for K in Strikes]\n",
    "    vals_put = [calcPut(S,K, t , r, sigma) for K in Strikes]\n",
    "    plt.plot(Strikes,vals_call, 'r', label = \"Call\")\n",
    "    plt.plot(Strikes, vals_put, 'b', label  = \"Put\")\n",
    "    plt.legend()\n",
    "    plt.ylabel(\"Option Price ($)\")\n",
    "    plt.xlabel(\"Strike Price ($)\")\n",
    "    plt.show()"
   ]
  },
  {
   "cell_type": "code",
   "execution_count": 16,
   "metadata": {},
   "outputs": [
    {
     "data": {
      "application/vnd.jupyter.widget-view+json": {
       "model_id": "658adb5de7014a41a47a13c6592f7e38",
       "version_major": 2,
       "version_minor": 0
      },
      "text/plain": [
       "interactive(children=(IntSlider(value=100, description='S', max=300, min=-100), IntSlider(value=1, description…"
      ]
     },
     "metadata": {},
     "output_type": "display_data"
    }
   ],
   "source": [
    "interactive_plot1 = interactive(plotPricePutCallByStrike,\n",
    "                               S = 100,\n",
    "                               t = 1,\n",
    "                               r = 0.02,\n",
    "                               sigma= 0.1)\n",
    "interactive_plot1"
   ]
  },
  {
   "cell_type": "code",
   "execution_count": 17,
   "metadata": {
    "slideshow": {
     "slide_type": "slide"
    }
   },
   "outputs": [],
   "source": [
    "def plotCallPriceSKfixed(t1,r1,sigma1, t2, r2, sigma2):\n",
    "    fig = plt.figure()\n",
    "    ax = fig.add_subplot(111, projection='3d')\n",
    "    x = y = np.arange(90, 110, 1)\n",
    "    X, Y = np.meshgrid(x, y)\n",
    "    \n",
    "    vectorizedPartialSK1 = np.vectorize(lambda S,K: calcCall(S,K,t1,r1,sigma1))\n",
    "    vectorizedPartialSK2 = np.vectorize(lambda S,K: calcCall(S,K,t2,r2,sigma2))\n",
    "    \n",
    "    zs1 = np.array(vectorizedPartialSK1(np.ravel(X), np.ravel(Y)))\n",
    "    Z1 = zs1.reshape(X.shape)\n",
    "    \n",
    "    zs2 = np.array(vectorizedPartialSK2(np.ravel(X), np.ravel(Y)))\n",
    "    Z2 = zs2.reshape(X.shape)\n",
    "    \n",
    "    \n",
    "    \n",
    "    \n",
    "    ax.scatter(X, Y, Z1)\n",
    "    ax.scatter(X, Y, Z2)\n",
    "\n",
    "    xa = ax.get_xaxis()\n",
    "    xa.set_major_locator(MaxNLocator(integer=True))\n",
    "    ya = ax.get_yaxis()\n",
    "    ya.set_major_locator(MaxNLocator(integer=True))\n",
    "\n",
    "\n",
    "    ax.set_xlabel('Asset Price')\n",
    "    ax.set_ylabel('Strike Price')\n",
    "    ax.set_zlabel('BS-Call-Price')"
   ]
  },
  {
   "cell_type": "code",
   "execution_count": 18,
   "metadata": {
    "slideshow": {
     "slide_type": "slide"
    }
   },
   "outputs": [
    {
     "data": {
      "application/vnd.jupyter.widget-view+json": {
       "model_id": "13893f08ad7e4f2f942c7d3d907af431",
       "version_major": 2,
       "version_minor": 0
      },
      "text/plain": [
       "interactive(children=(FloatSlider(value=1.1, description='t1', max=3.3000000000000003, min=-1.1), FloatSlider(…"
      ]
     },
     "metadata": {},
     "output_type": "display_data"
    }
   ],
   "source": [
    "interactive_plot2 = interactive(plotCallPriceSKfixed,\n",
    "                               t1 = 1.1,\n",
    "                               r1 = widgets.FloatSlider(min= 0, max=0.50, step=0.01, value=0.01),\n",
    "                               sigma1 = widgets.FloatSlider(min= 0.001, max=0.9, step=0.01, value=0.05),\n",
    "                               t2 = 1.5,\n",
    "                               r2 = widgets.FloatSlider(min= 0, max=0.50, step=0.01, value=0.05),\n",
    "                               sigma2 = widgets.FloatSlider(min= 0.001, max=0.9, step=0.01, value=0.15))\n",
    "\n",
    "\n",
    "interactive_plot2"
   ]
  },
  {
   "cell_type": "code",
   "execution_count": 19,
   "metadata": {
    "slideshow": {
     "slide_type": "slide"
    }
   },
   "outputs": [
    {
     "data": {
      "application/vnd.jupyter.widget-view+json": {
       "model_id": "f414eefe48534088a49e28ce7e6b18f6",
       "version_major": 2,
       "version_minor": 0
      },
      "text/plain": [
       "interactive(children=(IntSlider(value=100, description='S1', max=300, min=-100), IntSlider(value=110, descript…"
      ]
     },
     "metadata": {},
     "output_type": "display_data"
    }
   ],
   "source": [
    "def plotCallPriceSigmaTfixed(S1,K1,r1, S2, K2, r2):\n",
    "    fig = plt.figure()\n",
    "    ax = fig.add_subplot(111, projection='3d')\n",
    "    x = y = np.arange(0.01, 1, 0.05)\n",
    "    X, Y = np.meshgrid(x, y)\n",
    "    \n",
    "    vectorizedPartialSigmaT1 = np.vectorize(lambda sigma, t: calcCall(S1,K1,t,r1,sigma))\n",
    "    zs1 = np.array(vectorizedPartialSigmaT1(np.ravel(X), np.ravel(Y)))\n",
    "    Z1 = zs1.reshape(X.shape)\n",
    "    \n",
    "    vectorizedPartialSigmaT2 = np.vectorize(lambda sigma, t: calcCall(S2,K2,t,r2,sigma))\n",
    "    zs2 = np.array(vectorizedPartialSigmaT2(np.ravel(X), np.ravel(Y)))\n",
    "    Z2 = zs2.reshape(X.shape)\n",
    "\n",
    "    ax.scatter(X, Y, Z1)\n",
    "    ax.scatter(X,Y, Z2)\n",
    "\n",
    "    xa = ax.get_xaxis()\n",
    "    xa.set_major_locator(MaxNLocator(integer=True))\n",
    "    ya = ax.get_yaxis()\n",
    "    ya.set_major_locator(MaxNLocator(integer=True))\n",
    "\n",
    "\n",
    "    ax.set_xlabel('Vola')\n",
    "    ax.set_ylabel('timeToMaturity')\n",
    "    ax.set_zlabel('BS-Call-Price')\n",
    "\n",
    "interactive_plot3 = interactive(plotCallPriceSigmaTfixed,\n",
    "                               S1 = 100,\n",
    "                               K1 = 110,\n",
    "                               r1 = 0.01,\n",
    "                               S2 = 110,\n",
    "                               K2 = 115,\n",
    "                               r2 = 0.05)\n",
    "                               \n",
    "\n",
    "interactive_plot3"
   ]
  },
  {
   "cell_type": "code",
   "execution_count": 20,
   "metadata": {},
   "outputs": [],
   "source": [
    "def plotDeltaStockPriceExpiry(K,r,sigma):\n",
    "    fig = plt.figure()\n",
    "    ax = fig.add_subplot(111, projection='3d')\n",
    "    x = np.arange(90, 120, 0.5)\n",
    "    y = np.arange(0.01, 2, 0.05)\n",
    "    X, Y = np.meshgrid(x, y)\n",
    "    \n",
    "    vectorizedPartialDelta1 = np.vectorize(lambda S, t: calcDeltaCall(S,K, t,r, sigma))\n",
    "    zs1 = np.array(vectorizedPartialDelta1(np.ravel(X), np.ravel(Y)))\n",
    "    Z1 = zs1.reshape(X.shape)\n",
    "    \n",
    "    ax.scatter(X, Y, Z1)\n",
    "\n",
    "    xa = ax.get_xaxis()\n",
    "    xa.set_major_locator(MaxNLocator(integer=True))\n",
    "    ya = ax.get_yaxis()\n",
    "    ya.set_major_locator(MaxNLocator(integer=True))\n",
    "\n",
    "\n",
    "    ax.set_xlabel('Asset Price')\n",
    "    ax.set_ylabel('timeToMaturity')\n",
    "    ax.set_zlabel('Call Delta')\n",
    "    "
   ]
  },
  {
   "cell_type": "code",
   "execution_count": 21,
   "metadata": {},
   "outputs": [
    {
     "data": {
      "application/vnd.jupyter.widget-view+json": {
       "model_id": "a70acb1c4fda4df89cd8df91621ef95d",
       "version_major": 2,
       "version_minor": 0
      },
      "text/plain": [
       "interactive(children=(IntSlider(value=110, description='K', max=330, min=-110), FloatSlider(value=0.01, descri…"
      ]
     },
     "metadata": {},
     "output_type": "display_data"
    }
   ],
   "source": [
    "interactive_plot4 = interactive(plotDeltaStockPriceExpiry,\n",
    "                               K = 110,\n",
    "                               r = widgets.FloatSlider(min= 0, max=0.50, step=0.01, value=0.01),\n",
    "                               sigma = widgets.FloatSlider(min= 0.001, max=0.9, step=0.01, value=0.05))\n",
    "                               \n",
    "\n",
    "interactive_plot4"
   ]
  },
  {
   "cell_type": "code",
   "execution_count": 22,
   "metadata": {},
   "outputs": [],
   "source": [
    "def plotGammaStockPriceExpiry(K,r,sigma):\n",
    "    fig = plt.figure()\n",
    "    ax = fig.add_subplot(111, projection='3d')\n",
    "    x = np.arange(105, 115, 0.5)\n",
    "    y = np.arange(0.01, 1, 0.02)\n",
    "    X, Y = np.meshgrid(x, y)\n",
    "    \n",
    "    vectorizedPartialGamma1 = np.vectorize(lambda S, t: calcGammaCall(S,K, t,r, sigma))\n",
    "    zs1 = np.array(vectorizedPartialGamma1(np.ravel(X), np.ravel(Y)))\n",
    "    Z1 = zs1.reshape(X.shape)\n",
    "    \n",
    "    ax.scatter(X, Y, Z1)\n",
    "\n",
    "    xa = ax.get_xaxis()\n",
    "    xa.set_major_locator(MaxNLocator(integer=True))\n",
    "    ya = ax.get_yaxis()\n",
    "    ya.set_major_locator(MaxNLocator(integer=True))\n",
    "\n",
    "\n",
    "    ax.set_xlabel('Asset Price')\n",
    "    ax.set_ylabel('timeToMaturity')\n",
    "    ax.set_zlabel('Call Gamma')"
   ]
  },
  {
   "cell_type": "code",
   "execution_count": 23,
   "metadata": {},
   "outputs": [
    {
     "data": {
      "application/vnd.jupyter.widget-view+json": {
       "model_id": "bd0e11b822394c20b9d112105100d569",
       "version_major": 2,
       "version_minor": 0
      },
      "text/plain": [
       "interactive(children=(IntSlider(value=110, description='K', max=330, min=-110), FloatSlider(value=0.01, descri…"
      ]
     },
     "metadata": {},
     "output_type": "display_data"
    }
   ],
   "source": [
    "interactive_plot5 = interactive(plotGammaStockPriceExpiry,\n",
    "                               K = 110,\n",
    "                               r = widgets.FloatSlider(min= 0, max=0.50, step=0.01, value=0.01),\n",
    "                               sigma = widgets.FloatSlider(min= 0.001, max=0.9, step=0.01, value=0.10))\n",
    "                               \n",
    "\n",
    "interactive_plot5"
   ]
  },
  {
   "cell_type": "code",
   "execution_count": 32,
   "metadata": {},
   "outputs": [],
   "source": [
    "def plotVegaStockPriceExpiry(K,r,sigma):\n",
    "    fig = plt.figure()\n",
    "    ax = fig.add_subplot(111, projection='3d')\n",
    "    x = np.arange(80, 120, 1)\n",
    "    y = np.arange(0.01, 2, 0.05)\n",
    "    X, Y = np.meshgrid(x, y)\n",
    "    \n",
    "    vectorizedPartialVega1 = np.vectorize(lambda S, t: calcVegaCall(S,K, t,r, sigma))\n",
    "    zs1 = np.array(vectorizedPartialVega1(np.ravel(X), np.ravel(Y)))\n",
    "    Z1 = zs1.reshape(X.shape)\n",
    "    \n",
    "    ax.scatter(X, Y, Z1)\n",
    "\n",
    "    xa = ax.get_xaxis()\n",
    "    xa.set_major_locator(MaxNLocator(integer=True))\n",
    "    ya = ax.get_yaxis()\n",
    "    ya.set_major_locator(MaxNLocator(integer=True))\n",
    "\n",
    "\n",
    "    ax.set_xlabel('Asset Price')\n",
    "    ax.set_ylabel('timeToMaturity')\n",
    "    ax.set_zlabel('Call Vega')"
   ]
  },
  {
   "cell_type": "code",
   "execution_count": 33,
   "metadata": {},
   "outputs": [
    {
     "data": {
      "application/vnd.jupyter.widget-view+json": {
       "model_id": "c3a924ad213b474db5666d092f8822fd",
       "version_major": 2,
       "version_minor": 0
      },
      "text/plain": [
       "interactive(children=(IntSlider(value=110, description='K', max=330, min=-110), FloatSlider(value=0.01, descri…"
      ]
     },
     "metadata": {},
     "output_type": "display_data"
    }
   ],
   "source": [
    "interactive_plot6 = interactive(plotVegaStockPriceExpiry,\n",
    "                               K = 110,\n",
    "                               r = widgets.FloatSlider(min= 0, max=0.50, step=0.01, value=0.01),\n",
    "                               sigma = widgets.FloatSlider(min= 0.001, max=0.9, step=0.01, value=0.10))\n",
    "                               \n",
    "\n",
    "interactive_plot6"
   ]
  },
  {
   "cell_type": "code",
   "execution_count": 56,
   "metadata": {},
   "outputs": [],
   "source": [
    "def plotThetaStockPriceExpiry(K,r,sigma):\n",
    "    fig = plt.figure()\n",
    "    ax = fig.add_subplot(111, projection='3d')\n",
    "    x = np.arange(105, 115, 0.1)\n",
    "    y = np.arange(0.01, 0.3, 0.01)\n",
    "    X, Y = np.meshgrid(x, y)\n",
    "    \n",
    "    vectorizedPartialTheta1 = np.vectorize(lambda S, t: calcThetaCall(S,K, t,r, sigma))\n",
    "    zs1 = np.array(vectorizedPartialTheta1(np.ravel(X), np.ravel(Y)))\n",
    "    Z1 = zs1.reshape(X.shape)\n",
    "    \n",
    "    ax.scatter(X, Y, Z1)\n",
    "\n",
    "    xa = ax.get_xaxis()\n",
    "    xa.set_major_locator(MaxNLocator(integer=True))\n",
    "    ya = ax.get_yaxis()\n",
    "    ya.set_major_locator(MaxNLocator(integer=True))\n",
    "\n",
    "\n",
    "    ax.set_xlabel('Asset Price')\n",
    "    ax.set_ylabel('timeToMaturity')\n",
    "    ax.set_zlabel('Call Theta')"
   ]
  },
  {
   "cell_type": "code",
   "execution_count": 57,
   "metadata": {},
   "outputs": [
    {
     "data": {
      "application/vnd.jupyter.widget-view+json": {
       "model_id": "d73d962d22e24d18b5a877a7926001bc",
       "version_major": 2,
       "version_minor": 0
      },
      "text/plain": [
       "interactive(children=(IntSlider(value=110, description='K', max=330, min=-110), FloatSlider(value=0.01, descri…"
      ]
     },
     "metadata": {},
     "output_type": "display_data"
    }
   ],
   "source": [
    "interactive_plot7 = interactive(plotThetaStockPriceExpiry,\n",
    "                               K = 110,\n",
    "                               r = widgets.FloatSlider(min= 0, max=0.50, step=0.01, value=0.01),\n",
    "                               sigma = widgets.FloatSlider(min= 0.001, max=0.9, step=0.01, value=0.10))\n",
    "                               \n",
    "\n",
    "interactive_plot7"
   ]
  },
  {
   "cell_type": "code",
   "execution_count": 67,
   "metadata": {},
   "outputs": [],
   "source": [
    "def plotRhoStockPriceExpiry(K,r,sigma):\n",
    "    fig = plt.figure()\n",
    "    ax = fig.add_subplot(111, projection='3d')\n",
    "    x = np.arange(90, 150, 1)\n",
    "    y = np.arange(0.01, 2, 0.05)\n",
    "    X, Y = np.meshgrid(x, y)\n",
    "    \n",
    "    vectorizedPartialRho1 = np.vectorize(lambda S, t: calcRhoCall(S,K, t,r, sigma))\n",
    "    zs1 = np.array(vectorizedPartialRho1(np.ravel(X), np.ravel(Y)))\n",
    "    Z1 = zs1.reshape(X.shape)\n",
    "    \n",
    "    ax.scatter(X, Y, Z1)\n",
    "\n",
    "    xa = ax.get_xaxis()\n",
    "    xa.set_major_locator(MaxNLocator(integer=True))\n",
    "    ya = ax.get_yaxis()\n",
    "    ya.set_major_locator(MaxNLocator(integer=True))\n",
    "\n",
    "\n",
    "    ax.set_xlabel('Asset Price')\n",
    "    ax.set_ylabel('timeToMaturity')\n",
    "    ax.set_zlabel('Call Rho')"
   ]
  },
  {
   "cell_type": "code",
   "execution_count": 68,
   "metadata": {},
   "outputs": [
    {
     "data": {
      "application/vnd.jupyter.widget-view+json": {
       "model_id": "927e9281a69641e682920eb0b90667ca",
       "version_major": 2,
       "version_minor": 0
      },
      "text/plain": [
       "interactive(children=(IntSlider(value=110, description='K', max=330, min=-110), FloatSlider(value=0.01, descri…"
      ]
     },
     "metadata": {},
     "output_type": "display_data"
    }
   ],
   "source": [
    "interactive_plot8 = interactive(plotRhoStockPriceExpiry,\n",
    "                               K = 110,\n",
    "                               r = widgets.FloatSlider(min= 0, max=0.50, step=0.01, value=0.01),\n",
    "                               sigma = widgets.FloatSlider(min= 0.001, max=0.9, step=0.01, value=0.10))\n",
    "                               \n",
    "\n",
    "interactive_plot8"
   ]
  },
  {
   "cell_type": "markdown",
   "metadata": {
    "slideshow": {
     "slide_type": "skip"
    }
   },
   "source": [
    "# Tests"
   ]
  },
  {
   "cell_type": "code",
   "execution_count": 24,
   "metadata": {},
   "outputs": [
    {
     "name": "stdout",
     "output_type": "stream",
     "text": [
      "1.0\n"
     ]
    }
   ],
   "source": [
    "print(phi(x = 0,mu = 0 , sigma = 1)*math.sqrt(2*math.pi))"
   ]
  },
  {
   "cell_type": "code",
   "execution_count": 25,
   "metadata": {},
   "outputs": [
    {
     "name": "stdout",
     "output_type": "stream",
     "text": [
      "Optionspreis:1.35\n",
      "Delta: 0.24099615585831619\n",
      "Gamma: 0.031157518596646044\n",
      "Vega: 31.157518596646046\n",
      "Rho 22.745877220313464\n",
      "Theta: -2.012793474238572\n"
     ]
    }
   ],
   "source": [
    "S = 100\n",
    "K = 110\n",
    "t = 1\n",
    "r = 0.02\n",
    "sigma = 0.10\n",
    "print(\"Optionspreis:\" + str(calcCall(S,K, t,r, sigma)))\n",
    "print(\"Delta: \" + str(calcDeltaCall(S,K, t,r, sigma)))\n",
    "print(\"Gamma: \" + str(calcGammaCall(S,K, t,r, sigma)))\n",
    "print(\"Vega: \" + str(calcVegaCall(S,K, t,r, sigma)))\n",
    "print(\"Rho \" + str(calcRhoCall(S,K, t,r, sigma)))\n",
    "print(\"Theta: \" + str(calcThetaCall(S,K, t,r, sigma)))"
   ]
  },
  {
   "cell_type": "code",
   "execution_count": 26,
   "metadata": {
    "slideshow": {
     "slide_type": "skip"
    }
   },
   "outputs": [
    {
     "name": "stdout",
     "output_type": "stream",
     "text": [
      "(1.414213562373095, -2.220446049250313e-16)\n",
      "(138.38010557964273, 138.33010557964272)\n"
     ]
    }
   ],
   "source": [
    "#test CalcDs\n",
    "print(calcDs(S = 100, K = 100, r = 1, sigma = math.sqrt(2), t=1))\n",
    "print(calcDs(S = 1000,K = 1, t = 1, r = 0.01, sigma = 0.05))"
   ]
  },
  {
   "cell_type": "code",
   "execution_count": 27,
   "metadata": {
    "slideshow": {
     "slide_type": "skip"
    }
   },
   "outputs": [
    {
     "name": "stdout",
     "output_type": "stream",
     "text": [
      "999.01\n",
      "0.0\n"
     ]
    }
   ],
   "source": [
    "#test calcCall\n",
    "print(calcCall(S = 1000,K = 1, t = 1, r = 0.01, sigma = 0.05))\n",
    "print(calcCall(S = 100,K = 110, t = 1, r = 0.01, sigma = 0.00001))"
   ]
  },
  {
   "cell_type": "code",
   "execution_count": 28,
   "metadata": {
    "slideshow": {
     "slide_type": "skip"
    }
   },
   "outputs": [
    {
     "name": "stdout",
     "output_type": "stream",
     "text": [
      "2.52\n"
     ]
    }
   ],
   "source": [
    "print(calcCall(S = 100,K = 100, t = 1, r = 0.01, sigma = 0.05))"
   ]
  }
 ],
 "metadata": {
  "kernelspec": {
   "display_name": "Python 3",
   "language": "python",
   "name": "python3"
  },
  "language_info": {
   "codemirror_mode": {
    "name": "ipython",
    "version": 3
   },
   "file_extension": ".py",
   "mimetype": "text/x-python",
   "name": "python",
   "nbconvert_exporter": "python",
   "pygments_lexer": "ipython3",
   "version": "3.8.3"
  }
 },
 "nbformat": 4,
 "nbformat_minor": 4
}
